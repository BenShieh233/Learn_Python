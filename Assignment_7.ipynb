{
  "nbformat": 4,
  "nbformat_minor": 0,
  "metadata": {
    "colab": {
      "provenance": [],
      "authorship_tag": "ABX9TyMe6A9rX48mLd9sX18v2jad",
      "include_colab_link": true
    },
    "kernelspec": {
      "name": "python3",
      "display_name": "Python 3"
    },
    "language_info": {
      "name": "python"
    }
  },
  "cells": [
    {
      "cell_type": "markdown",
      "metadata": {
        "id": "view-in-github",
        "colab_type": "text"
      },
      "source": [
        "<a href=\"https://colab.research.google.com/github/BenShieh233/Learn_Python/blob/main/Assignment_7.ipynb\" target=\"_parent\"><img src=\"https://colab.research.google.com/assets/colab-badge.svg\" alt=\"Open In Colab\"/></a>"
      ]
    },
    {
      "cell_type": "code",
      "execution_count": 1,
      "metadata": {
        "id": "PRDnH1XeL9wx"
      },
      "outputs": [],
      "source": [
        "import numpy as np \n",
        "import matplotlib.pyplot as plt  \n",
        "import pandas as pd \n",
        "\n",
        "from mpl_toolkits.mplot3d import Axes3D\n",
        "\n",
        "from sklearn.preprocessing import scale\n",
        "from sklearn.metrics import mean_squared_error, roc_curve, auc\n",
        "import statsmodels.formula.api as smf\n",
        "from sklearn.model_selection import train_test_split\n",
        "from sklearn.preprocessing import StandardScaler\n",
        "\n",
        "import tensorflow as tf\n",
        "from tensorflow import keras\n",
        "from tensorflow.keras import layers"
      ]
    },
    {
      "cell_type": "markdown",
      "source": [
        "## 1.Introduction"
      ],
      "metadata": {
        "id": "Af4NpzHelsap"
      }
    },
    {
      "cell_type": "markdown",
      "source": [
        "In this assignment, we will apply the neural network to predicting the quality of wine. We will firstly use a single-layer neural network model to predict the wine quality, and then we employ a network with two layers to improve our accuracy."
      ],
      "metadata": {
        "id": "h87ELJH_lyBe"
      }
    },
    {
      "cell_type": "code",
      "source": [
        "wine = pd.read_csv('/content/sample_data/winequality-red.csv', sep = ';')\n",
        "# Define good quality as quality > 6\n",
        "wine['good_quality'] = [0 if i<7 else 1 for i in wine['quality']]\n",
        "\n",
        "# Split the training and test sets\n",
        "y = wine['good_quality'].values\n",
        "X = wine.drop(['good_quality', 'quality'], axis=1).values\n",
        "X_train, X_test, y_train, y_test = train_test_split(X, y, test_size = 0.3, random_state = 0 )"
      ],
      "metadata": {
        "id": "5k4CxJ6rClFe"
      },
      "execution_count": 4,
      "outputs": []
    },
    {
      "cell_type": "code",
      "source": [
        "# Scale the numerical variables in both training and test data\n",
        "scaler=StandardScaler().fit(X_train)\n",
        "X_train=scaler.transform(X_train)\n",
        "X_test=scaler.transform(X_test)"
      ],
      "metadata": {
        "id": "Knee0-wMgToW"
      },
      "execution_count": 5,
      "outputs": []
    },
    {
      "cell_type": "markdown",
      "source": [
        "## 2. Single-Layer Neural Network"
      ],
      "metadata": {
        "id": "oKGYkFk-Q8xN"
      }
    },
    {
      "cell_type": "markdown",
      "source": [
        "We apply a single-layer neural network "
      ],
      "metadata": {
        "id": "0zfqG5_wuMhe"
      }
    },
    {
      "cell_type": "code",
      "source": [
        "inputs = keras.Input(shape=(11,))\n",
        "x = layers.Dense(12, activation=\"relu\", name=\"dense_1\")(inputs)\n",
        "outputs = layers.Dense(1, activation = \"sigmoid\", name = \"predictions\")(x)\n",
        "quality_nnet = keras.Model(inputs=inputs, outputs=outputs)\n",
        "quality_nnet.compile(\n",
        "  optimizer=keras.optimizers.Adam(learning_rate=0.001),\n",
        "  # Loss function to minimize\n",
        "  loss='binary_crossentropy',\n",
        "  # List of metrics to monitor\n",
        "  metrics=['accuracy'],\n",
        ")"
      ],
      "metadata": {
        "id": "JvNiD5ycNAUv"
      },
      "execution_count": 6,
      "outputs": []
    },
    {
      "cell_type": "code",
      "source": [
        "quality = quality_nnet.fit(\n",
        "    X_train,\n",
        "    y_train,\n",
        "    batch_size=1,\n",
        "    epochs=50\n",
        ")"
      ],
      "metadata": {
        "colab": {
          "base_uri": "https://localhost:8080/"
        },
        "id": "hTxbJ_EMS7ZG",
        "outputId": "35747055-b9a5-449c-b624-391bd87e3e75"
      },
      "execution_count": 7,
      "outputs": [
        {
          "output_type": "stream",
          "name": "stdout",
          "text": [
            "Epoch 1/50\n",
            "1119/1119 [==============================] - 3s 2ms/step - loss: 0.3838 - accuracy: 0.8409\n",
            "Epoch 2/50\n",
            "1119/1119 [==============================] - 2s 2ms/step - loss: 0.3021 - accuracy: 0.8615\n",
            "Epoch 3/50\n",
            "1119/1119 [==============================] - 2s 2ms/step - loss: 0.2873 - accuracy: 0.8695\n",
            "Epoch 4/50\n",
            "1119/1119 [==============================] - 2s 2ms/step - loss: 0.2800 - accuracy: 0.8695\n",
            "Epoch 5/50\n",
            "1119/1119 [==============================] - 2s 2ms/step - loss: 0.2750 - accuracy: 0.8740\n",
            "Epoch 6/50\n",
            "1119/1119 [==============================] - 2s 2ms/step - loss: 0.2705 - accuracy: 0.8731\n",
            "Epoch 7/50\n",
            "1119/1119 [==============================] - 2s 2ms/step - loss: 0.2674 - accuracy: 0.8767\n",
            "Epoch 8/50\n",
            "1119/1119 [==============================] - 2s 2ms/step - loss: 0.2638 - accuracy: 0.8713\n",
            "Epoch 9/50\n",
            "1119/1119 [==============================] - 2s 2ms/step - loss: 0.2623 - accuracy: 0.8785\n",
            "Epoch 10/50\n",
            "1119/1119 [==============================] - 2s 2ms/step - loss: 0.2609 - accuracy: 0.8776\n",
            "Epoch 11/50\n",
            "1119/1119 [==============================] - 2s 2ms/step - loss: 0.2595 - accuracy: 0.8767\n",
            "Epoch 12/50\n",
            "1119/1119 [==============================] - 2s 2ms/step - loss: 0.2584 - accuracy: 0.8820\n",
            "Epoch 13/50\n",
            "1119/1119 [==============================] - 2s 2ms/step - loss: 0.2567 - accuracy: 0.8776\n",
            "Epoch 14/50\n",
            "1119/1119 [==============================] - 2s 2ms/step - loss: 0.2546 - accuracy: 0.8820\n",
            "Epoch 15/50\n",
            "1119/1119 [==============================] - 2s 2ms/step - loss: 0.2535 - accuracy: 0.8785\n",
            "Epoch 16/50\n",
            "1119/1119 [==============================] - 3s 2ms/step - loss: 0.2511 - accuracy: 0.8847\n",
            "Epoch 17/50\n",
            "1119/1119 [==============================] - 2s 2ms/step - loss: 0.2518 - accuracy: 0.8829\n",
            "Epoch 18/50\n",
            "1119/1119 [==============================] - 2s 2ms/step - loss: 0.2508 - accuracy: 0.8820\n",
            "Epoch 19/50\n",
            "1119/1119 [==============================] - 2s 2ms/step - loss: 0.2497 - accuracy: 0.8838\n",
            "Epoch 20/50\n",
            "1119/1119 [==============================] - 2s 2ms/step - loss: 0.2495 - accuracy: 0.8856\n",
            "Epoch 21/50\n",
            "1119/1119 [==============================] - 2s 2ms/step - loss: 0.2485 - accuracy: 0.8838\n",
            "Epoch 22/50\n",
            "1119/1119 [==============================] - 2s 2ms/step - loss: 0.2445 - accuracy: 0.8919\n",
            "Epoch 23/50\n",
            "1119/1119 [==============================] - 2s 2ms/step - loss: 0.2472 - accuracy: 0.8803\n",
            "Epoch 24/50\n",
            "1119/1119 [==============================] - 2s 2ms/step - loss: 0.2459 - accuracy: 0.8811\n",
            "Epoch 25/50\n",
            "1119/1119 [==============================] - 2s 2ms/step - loss: 0.2449 - accuracy: 0.8847\n",
            "Epoch 26/50\n",
            "1119/1119 [==============================] - 2s 2ms/step - loss: 0.2439 - accuracy: 0.8892\n",
            "Epoch 27/50\n",
            "1119/1119 [==============================] - 2s 2ms/step - loss: 0.2449 - accuracy: 0.8829\n",
            "Epoch 28/50\n",
            "1119/1119 [==============================] - 2s 2ms/step - loss: 0.2435 - accuracy: 0.8892\n",
            "Epoch 29/50\n",
            "1119/1119 [==============================] - 2s 2ms/step - loss: 0.2423 - accuracy: 0.8874\n",
            "Epoch 30/50\n",
            "1119/1119 [==============================] - 2s 2ms/step - loss: 0.2416 - accuracy: 0.8883\n",
            "Epoch 31/50\n",
            "1119/1119 [==============================] - 2s 2ms/step - loss: 0.2409 - accuracy: 0.8865\n",
            "Epoch 32/50\n",
            "1119/1119 [==============================] - 2s 2ms/step - loss: 0.2395 - accuracy: 0.8883\n",
            "Epoch 33/50\n",
            "1119/1119 [==============================] - 2s 2ms/step - loss: 0.2400 - accuracy: 0.8856\n",
            "Epoch 34/50\n",
            "1119/1119 [==============================] - 2s 2ms/step - loss: 0.2393 - accuracy: 0.8945\n",
            "Epoch 35/50\n",
            "1119/1119 [==============================] - 2s 1ms/step - loss: 0.2387 - accuracy: 0.8910\n",
            "Epoch 36/50\n",
            "1119/1119 [==============================] - 2s 1ms/step - loss: 0.2352 - accuracy: 0.8981\n",
            "Epoch 37/50\n",
            "1119/1119 [==============================] - 2s 2ms/step - loss: 0.2371 - accuracy: 0.9017\n",
            "Epoch 38/50\n",
            "1119/1119 [==============================] - 2s 2ms/step - loss: 0.2365 - accuracy: 0.8892\n",
            "Epoch 39/50\n",
            "1119/1119 [==============================] - 2s 2ms/step - loss: 0.2364 - accuracy: 0.8945\n",
            "Epoch 40/50\n",
            "1119/1119 [==============================] - 2s 2ms/step - loss: 0.2357 - accuracy: 0.8928\n",
            "Epoch 41/50\n",
            "1119/1119 [==============================] - 2s 2ms/step - loss: 0.2356 - accuracy: 0.8910\n",
            "Epoch 42/50\n",
            "1119/1119 [==============================] - 2s 2ms/step - loss: 0.2338 - accuracy: 0.8963\n",
            "Epoch 43/50\n",
            "1119/1119 [==============================] - 2s 2ms/step - loss: 0.2341 - accuracy: 0.8910\n",
            "Epoch 44/50\n",
            "1119/1119 [==============================] - 2s 2ms/step - loss: 0.2335 - accuracy: 0.8919\n",
            "Epoch 45/50\n",
            "1119/1119 [==============================] - 2s 2ms/step - loss: 0.2333 - accuracy: 0.8883\n",
            "Epoch 46/50\n",
            "1119/1119 [==============================] - 2s 2ms/step - loss: 0.2328 - accuracy: 0.8901\n",
            "Epoch 47/50\n",
            "1119/1119 [==============================] - 2s 2ms/step - loss: 0.2324 - accuracy: 0.8901\n",
            "Epoch 48/50\n",
            "1119/1119 [==============================] - 2s 2ms/step - loss: 0.2327 - accuracy: 0.8981\n",
            "Epoch 49/50\n",
            "1119/1119 [==============================] - 3s 2ms/step - loss: 0.2317 - accuracy: 0.8945\n",
            "Epoch 50/50\n",
            "1119/1119 [==============================] - 2s 2ms/step - loss: 0.2313 - accuracy: 0.8945\n"
          ]
        }
      ]
    },
    {
      "cell_type": "code",
      "source": [
        "y_preds = quality_nnet.predict(X_test)\n",
        "y_preds_bin = y_preds > 0.5\n",
        "table = pd.DataFrame({'True':y_test,'pred':y_preds_bin.T[0]})\n",
        "table.groupby(['True','pred']).size().unstack('True')"
      ],
      "metadata": {
        "colab": {
          "base_uri": "https://localhost:8080/",
          "height": 161
        },
        "id": "AXFMfSWkTc--",
        "outputId": "5d86bb92-677d-48e0-ec4a-3acf37789f68"
      },
      "execution_count": 8,
      "outputs": [
        {
          "output_type": "stream",
          "name": "stdout",
          "text": [
            "15/15 [==============================] - 0s 2ms/step\n"
          ]
        },
        {
          "output_type": "execute_result",
          "data": {
            "text/plain": [
              "True     0   1\n",
              "pred          \n",
              "False  407  29\n",
              "True    23  21"
            ],
            "text/html": [
              "\n",
              "  <div id=\"df-2d765881-bec2-458f-b625-54c8cf4fb006\">\n",
              "    <div class=\"colab-df-container\">\n",
              "      <div>\n",
              "<style scoped>\n",
              "    .dataframe tbody tr th:only-of-type {\n",
              "        vertical-align: middle;\n",
              "    }\n",
              "\n",
              "    .dataframe tbody tr th {\n",
              "        vertical-align: top;\n",
              "    }\n",
              "\n",
              "    .dataframe thead th {\n",
              "        text-align: right;\n",
              "    }\n",
              "</style>\n",
              "<table border=\"1\" class=\"dataframe\">\n",
              "  <thead>\n",
              "    <tr style=\"text-align: right;\">\n",
              "      <th>True</th>\n",
              "      <th>0</th>\n",
              "      <th>1</th>\n",
              "    </tr>\n",
              "    <tr>\n",
              "      <th>pred</th>\n",
              "      <th></th>\n",
              "      <th></th>\n",
              "    </tr>\n",
              "  </thead>\n",
              "  <tbody>\n",
              "    <tr>\n",
              "      <th>False</th>\n",
              "      <td>407</td>\n",
              "      <td>29</td>\n",
              "    </tr>\n",
              "    <tr>\n",
              "      <th>True</th>\n",
              "      <td>23</td>\n",
              "      <td>21</td>\n",
              "    </tr>\n",
              "  </tbody>\n",
              "</table>\n",
              "</div>\n",
              "      <button class=\"colab-df-convert\" onclick=\"convertToInteractive('df-2d765881-bec2-458f-b625-54c8cf4fb006')\"\n",
              "              title=\"Convert this dataframe to an interactive table.\"\n",
              "              style=\"display:none;\">\n",
              "        \n",
              "  <svg xmlns=\"http://www.w3.org/2000/svg\" height=\"24px\"viewBox=\"0 0 24 24\"\n",
              "       width=\"24px\">\n",
              "    <path d=\"M0 0h24v24H0V0z\" fill=\"none\"/>\n",
              "    <path d=\"M18.56 5.44l.94 2.06.94-2.06 2.06-.94-2.06-.94-.94-2.06-.94 2.06-2.06.94zm-11 1L8.5 8.5l.94-2.06 2.06-.94-2.06-.94L8.5 2.5l-.94 2.06-2.06.94zm10 10l.94 2.06.94-2.06 2.06-.94-2.06-.94-.94-2.06-.94 2.06-2.06.94z\"/><path d=\"M17.41 7.96l-1.37-1.37c-.4-.4-.92-.59-1.43-.59-.52 0-1.04.2-1.43.59L10.3 9.45l-7.72 7.72c-.78.78-.78 2.05 0 2.83L4 21.41c.39.39.9.59 1.41.59.51 0 1.02-.2 1.41-.59l7.78-7.78 2.81-2.81c.8-.78.8-2.07 0-2.86zM5.41 20L4 18.59l7.72-7.72 1.47 1.35L5.41 20z\"/>\n",
              "  </svg>\n",
              "      </button>\n",
              "      \n",
              "  <style>\n",
              "    .colab-df-container {\n",
              "      display:flex;\n",
              "      flex-wrap:wrap;\n",
              "      gap: 12px;\n",
              "    }\n",
              "\n",
              "    .colab-df-convert {\n",
              "      background-color: #E8F0FE;\n",
              "      border: none;\n",
              "      border-radius: 50%;\n",
              "      cursor: pointer;\n",
              "      display: none;\n",
              "      fill: #1967D2;\n",
              "      height: 32px;\n",
              "      padding: 0 0 0 0;\n",
              "      width: 32px;\n",
              "    }\n",
              "\n",
              "    .colab-df-convert:hover {\n",
              "      background-color: #E2EBFA;\n",
              "      box-shadow: 0px 1px 2px rgba(60, 64, 67, 0.3), 0px 1px 3px 1px rgba(60, 64, 67, 0.15);\n",
              "      fill: #174EA6;\n",
              "    }\n",
              "\n",
              "    [theme=dark] .colab-df-convert {\n",
              "      background-color: #3B4455;\n",
              "      fill: #D2E3FC;\n",
              "    }\n",
              "\n",
              "    [theme=dark] .colab-df-convert:hover {\n",
              "      background-color: #434B5C;\n",
              "      box-shadow: 0px 1px 3px 1px rgba(0, 0, 0, 0.15);\n",
              "      filter: drop-shadow(0px 1px 2px rgba(0, 0, 0, 0.3));\n",
              "      fill: #FFFFFF;\n",
              "    }\n",
              "  </style>\n",
              "\n",
              "      <script>\n",
              "        const buttonEl =\n",
              "          document.querySelector('#df-2d765881-bec2-458f-b625-54c8cf4fb006 button.colab-df-convert');\n",
              "        buttonEl.style.display =\n",
              "          google.colab.kernel.accessAllowed ? 'block' : 'none';\n",
              "\n",
              "        async function convertToInteractive(key) {\n",
              "          const element = document.querySelector('#df-2d765881-bec2-458f-b625-54c8cf4fb006');\n",
              "          const dataTable =\n",
              "            await google.colab.kernel.invokeFunction('convertToInteractive',\n",
              "                                                     [key], {});\n",
              "          if (!dataTable) return;\n",
              "\n",
              "          const docLinkHtml = 'Like what you see? Visit the ' +\n",
              "            '<a target=\"_blank\" href=https://colab.research.google.com/notebooks/data_table.ipynb>data table notebook</a>'\n",
              "            + ' to learn more about interactive tables.';\n",
              "          element.innerHTML = '';\n",
              "          dataTable['output_type'] = 'display_data';\n",
              "          await google.colab.output.renderOutput(dataTable, element);\n",
              "          const docLink = document.createElement('div');\n",
              "          docLink.innerHTML = docLinkHtml;\n",
              "          element.appendChild(docLink);\n",
              "        }\n",
              "      </script>\n",
              "    </div>\n",
              "  </div>\n",
              "  "
            ]
          },
          "metadata": {},
          "execution_count": 8
        }
      ]
    },
    {
      "cell_type": "code",
      "source": [
        "score = quality_nnet.evaluate(X_test, y_test, verbose = 1)\n",
        "print(score)"
      ],
      "metadata": {
        "colab": {
          "base_uri": "https://localhost:8080/"
        },
        "id": "hJBze1JTVt9l",
        "outputId": "a904ddd6-0e04-4aa9-d99a-9113e93cd301"
      },
      "execution_count": 9,
      "outputs": [
        {
          "output_type": "stream",
          "name": "stdout",
          "text": [
            "15/15 [==============================] - 0s 2ms/step - loss: 0.2564 - accuracy: 0.8917\n",
            "[0.2564114034175873, 0.8916666507720947]\n"
          ]
        }
      ]
    },
    {
      "cell_type": "code",
      "source": [
        "fpr, tpr, threshold = roc_curve(y_test, y_preds)\n",
        "roc_auc = auc(fpr, tpr)\n",
        "plt.title('Receiver Operating Characteristic')\n",
        "plt.plot(fpr, tpr, 'b', label = 'AUC = %0.2f' % roc_auc)\n",
        "plt.legend(loc = 'lower right')\n",
        "plt.plot([0, 1], [0, 1],'r--')\n",
        "plt.xlim([0, 1])\n",
        "plt.ylim([0, 1])\n",
        "plt.ylabel('True Positive Rate')\n",
        "plt.xlabel('False Positive Rate')\n",
        "plt.show()"
      ],
      "metadata": {
        "colab": {
          "base_uri": "https://localhost:8080/",
          "height": 295
        },
        "id": "WE86pQDMTlLq",
        "outputId": "9cc3b282-da45-4a54-f846-11d62af5f2ab"
      },
      "execution_count": 10,
      "outputs": [
        {
          "output_type": "display_data",
          "data": {
            "text/plain": [
              "<Figure size 432x288 with 1 Axes>"
            ],
            "image/png": "[encoded data removed]"
          },
          "metadata": {
            "needs_background": "light"
          }
        }
      ]
    },
    {
      "cell_type": "markdown",
      "source": [
        "## Deep Learning Neural Network"
      ],
      "metadata": {
        "id": "GtlVbYlbUA49"
      }
    },
    {
      "cell_type": "code",
      "source": [
        "inputs_DL = keras.Input(shape=(11,))\n",
        "x = layers.Dense(10, activation=\"relu\", name=\"dense_1\")(inputs_DL)\n",
        "z = layers.Dense(5, activation=\"relu\", name=\"dense_2\")(x)\n",
        "outputs_DL = layers.Dense(1, activation=\"sigmoid\", name=\"predictions\")(z)\n",
        "quality_DL_nnet = keras.Model(inputs=inputs_DL, outputs=outputs_DL)\n",
        "quality_DL_nnet.compile(\n",
        "  optimizer=keras.optimizers.Adam(learning_rate=0.001),\n",
        "  # Loss function to minimize\n",
        "  loss='binary_crossentropy',\n",
        "  # List of metrics to monitor\n",
        "  metrics=['accuracy'],\n",
        ")"
      ],
      "metadata": {
        "id": "QQ0uqftMUF6t"
      },
      "execution_count": 11,
      "outputs": []
    },
    {
      "cell_type": "code",
      "source": [
        "quality_DL_nnet.summary()"
      ],
      "metadata": {
        "colab": {
          "base_uri": "https://localhost:8080/"
        },
        "id": "JyvD9rrIdUWy",
        "outputId": "b7e3d359-525c-4701-87d9-07c16782d185"
      },
      "execution_count": 12,
      "outputs": [
        {
          "output_type": "stream",
          "name": "stdout",
          "text": [
            "Model: \"model_1\"\n",
            "_________________________________________________________________\n",
            " Layer (type)                Output Shape              Param #   \n",
            "=================================================================\n",
            " input_2 (InputLayer)        [(None, 11)]              0         \n",
            "                                                                 \n",
            " dense_1 (Dense)             (None, 10)                120       \n",
            "                                                                 \n",
            " dense_2 (Dense)             (None, 5)                 55        \n",
            "                                                                 \n",
            " predictions (Dense)         (None, 1)                 6         \n",
            "                                                                 \n",
            "=================================================================\n",
            "Total params: 181\n",
            "Trainable params: 181\n",
            "Non-trainable params: 0\n",
            "_________________________________________________________________\n"
          ]
        }
      ]
    },
    {
      "cell_type": "code",
      "source": [
        "quality_2 = quality_DL_nnet.fit(\n",
        "    X_train,\n",
        "    y_train,\n",
        "    batch_size=1,\n",
        "    epochs=50,\n",
        "    validation_split = 0.1\n",
        ")"
      ],
      "metadata": {
        "colab": {
          "base_uri": "https://localhost:8080/"
        },
        "id": "ANpmU6oTWAu4",
        "outputId": "75493505-7b83-4f04-d790-8226563318a6"
      },
      "execution_count": 13,
      "outputs": [
        {
          "output_type": "stream",
          "name": "stdout",
          "text": [
            "Epoch 1/50\n",
            "1007/1007 [==============================] - 2s 2ms/step - loss: 0.4151 - accuracy: 0.8083 - val_loss: 0.3247 - val_accuracy: 0.8393\n",
            "Epoch 2/50\n",
            "1007/1007 [==============================] - 2s 2ms/step - loss: 0.3107 - accuracy: 0.8451 - val_loss: 0.3049 - val_accuracy: 0.8482\n",
            "Epoch 3/50\n",
            "1007/1007 [==============================] - 2s 2ms/step - loss: 0.2981 - accuracy: 0.8451 - val_loss: 0.2947 - val_accuracy: 0.8482\n",
            "Epoch 4/50\n",
            "1007/1007 [==============================] - 2s 2ms/step - loss: 0.2918 - accuracy: 0.8590 - val_loss: 0.2871 - val_accuracy: 0.8571\n",
            "Epoch 5/50\n",
            "1007/1007 [==============================] - 2s 2ms/step - loss: 0.2854 - accuracy: 0.8759 - val_loss: 0.2827 - val_accuracy: 0.8571\n",
            "Epoch 6/50\n",
            "1007/1007 [==============================] - 2s 2ms/step - loss: 0.2812 - accuracy: 0.8709 - val_loss: 0.2770 - val_accuracy: 0.8750\n",
            "Epoch 7/50\n",
            "1007/1007 [==============================] - 2s 2ms/step - loss: 0.2780 - accuracy: 0.8818 - val_loss: 0.2767 - val_accuracy: 0.8571\n",
            "Epoch 8/50\n",
            "1007/1007 [==============================] - 2s 2ms/step - loss: 0.2747 - accuracy: 0.8769 - val_loss: 0.2708 - val_accuracy: 0.8661\n",
            "Epoch 9/50\n",
            "1007/1007 [==============================] - 2s 2ms/step - loss: 0.2708 - accuracy: 0.8759 - val_loss: 0.2705 - val_accuracy: 0.8750\n",
            "Epoch 10/50\n",
            "1007/1007 [==============================] - 2s 2ms/step - loss: 0.2678 - accuracy: 0.8769 - val_loss: 0.2598 - val_accuracy: 0.8839\n",
            "Epoch 11/50\n",
            "1007/1007 [==============================] - 2s 2ms/step - loss: 0.2659 - accuracy: 0.8788 - val_loss: 0.2581 - val_accuracy: 0.8750\n",
            "Epoch 12/50\n",
            "1007/1007 [==============================] - 2s 2ms/step - loss: 0.2600 - accuracy: 0.8798 - val_loss: 0.2595 - val_accuracy: 0.8839\n",
            "Epoch 13/50\n",
            "1007/1007 [==============================] - 2s 2ms/step - loss: 0.2603 - accuracy: 0.8808 - val_loss: 0.2530 - val_accuracy: 0.8750\n",
            "Epoch 14/50\n",
            "1007/1007 [==============================] - 2s 2ms/step - loss: 0.2597 - accuracy: 0.8788 - val_loss: 0.2465 - val_accuracy: 0.8750\n",
            "Epoch 15/50\n",
            "1007/1007 [==============================] - 2s 2ms/step - loss: 0.2574 - accuracy: 0.8818 - val_loss: 0.2451 - val_accuracy: 0.8839\n",
            "Epoch 16/50\n",
            "1007/1007 [==============================] - 2s 2ms/step - loss: 0.2559 - accuracy: 0.8858 - val_loss: 0.2450 - val_accuracy: 0.8929\n",
            "Epoch 17/50\n",
            "1007/1007 [==============================] - 3s 3ms/step - loss: 0.2540 - accuracy: 0.8838 - val_loss: 0.2464 - val_accuracy: 0.8750\n",
            "Epoch 18/50\n",
            "1007/1007 [==============================] - 4s 4ms/step - loss: 0.2528 - accuracy: 0.8848 - val_loss: 0.2455 - val_accuracy: 0.8929\n",
            "Epoch 19/50\n",
            "1007/1007 [==============================] - 5s 5ms/step - loss: 0.2510 - accuracy: 0.8848 - val_loss: 0.2379 - val_accuracy: 0.9018\n",
            "Epoch 20/50\n",
            "1007/1007 [==============================] - 4s 4ms/step - loss: 0.2491 - accuracy: 0.8868 - val_loss: 0.2347 - val_accuracy: 0.9018\n",
            "Epoch 21/50\n",
            "1007/1007 [==============================] - 4s 4ms/step - loss: 0.2473 - accuracy: 0.8848 - val_loss: 0.2359 - val_accuracy: 0.9107\n",
            "Epoch 22/50\n",
            "1007/1007 [==============================] - 2s 2ms/step - loss: 0.2465 - accuracy: 0.8908 - val_loss: 0.2344 - val_accuracy: 0.9018\n",
            "Epoch 23/50\n",
            "1007/1007 [==============================] - 2s 2ms/step - loss: 0.2455 - accuracy: 0.8928 - val_loss: 0.2345 - val_accuracy: 0.9107\n",
            "Epoch 24/50\n",
            "1007/1007 [==============================] - 2s 2ms/step - loss: 0.2431 - accuracy: 0.8918 - val_loss: 0.2340 - val_accuracy: 0.9107\n",
            "Epoch 25/50\n",
            "1007/1007 [==============================] - 2s 2ms/step - loss: 0.2430 - accuracy: 0.8987 - val_loss: 0.2332 - val_accuracy: 0.9107\n",
            "Epoch 26/50\n",
            "1007/1007 [==============================] - 2s 2ms/step - loss: 0.2418 - accuracy: 0.8908 - val_loss: 0.2291 - val_accuracy: 0.9196\n",
            "Epoch 27/50\n",
            "1007/1007 [==============================] - 2s 2ms/step - loss: 0.2396 - accuracy: 0.8967 - val_loss: 0.2267 - val_accuracy: 0.9196\n",
            "Epoch 28/50\n",
            "1007/1007 [==============================] - 2s 2ms/step - loss: 0.2373 - accuracy: 0.8977 - val_loss: 0.2254 - val_accuracy: 0.9196\n",
            "Epoch 29/50\n",
            "1007/1007 [==============================] - 2s 2ms/step - loss: 0.2354 - accuracy: 0.8947 - val_loss: 0.2276 - val_accuracy: 0.9018\n",
            "Epoch 30/50\n",
            "1007/1007 [==============================] - 2s 2ms/step - loss: 0.2353 - accuracy: 0.8967 - val_loss: 0.2262 - val_accuracy: 0.9107\n",
            "Epoch 31/50\n",
            "1007/1007 [==============================] - 2s 2ms/step - loss: 0.2338 - accuracy: 0.8977 - val_loss: 0.2282 - val_accuracy: 0.9107\n",
            "Epoch 32/50\n",
            "1007/1007 [==============================] - 2s 2ms/step - loss: 0.2321 - accuracy: 0.9007 - val_loss: 0.2199 - val_accuracy: 0.9286\n",
            "Epoch 33/50\n",
            "1007/1007 [==============================] - 2s 2ms/step - loss: 0.2314 - accuracy: 0.8987 - val_loss: 0.2248 - val_accuracy: 0.9018\n",
            "Epoch 34/50\n",
            "1007/1007 [==============================] - 2s 2ms/step - loss: 0.2311 - accuracy: 0.8957 - val_loss: 0.2220 - val_accuracy: 0.9286\n",
            "Epoch 35/50\n",
            "1007/1007 [==============================] - 2s 2ms/step - loss: 0.2304 - accuracy: 0.9007 - val_loss: 0.2227 - val_accuracy: 0.9196\n",
            "Epoch 36/50\n",
            "1007/1007 [==============================] - 2s 2ms/step - loss: 0.2285 - accuracy: 0.9067 - val_loss: 0.2199 - val_accuracy: 0.9196\n",
            "Epoch 37/50\n",
            "1007/1007 [==============================] - 2s 2ms/step - loss: 0.2280 - accuracy: 0.9007 - val_loss: 0.2240 - val_accuracy: 0.9107\n",
            "Epoch 38/50\n",
            "1007/1007 [==============================] - 2s 2ms/step - loss: 0.2245 - accuracy: 0.9027 - val_loss: 0.2199 - val_accuracy: 0.9196\n",
            "Epoch 39/50\n",
            "1007/1007 [==============================] - 2s 2ms/step - loss: 0.2251 - accuracy: 0.8997 - val_loss: 0.2208 - val_accuracy: 0.9196\n",
            "Epoch 40/50\n",
            "1007/1007 [==============================] - 2s 2ms/step - loss: 0.2228 - accuracy: 0.9037 - val_loss: 0.2232 - val_accuracy: 0.9286\n",
            "Epoch 41/50\n",
            "1007/1007 [==============================] - 2s 2ms/step - loss: 0.2223 - accuracy: 0.8967 - val_loss: 0.2245 - val_accuracy: 0.9107\n",
            "Epoch 42/50\n",
            "1007/1007 [==============================] - 2s 2ms/step - loss: 0.2205 - accuracy: 0.8997 - val_loss: 0.2191 - val_accuracy: 0.9286\n",
            "Epoch 43/50\n",
            "1007/1007 [==============================] - 2s 2ms/step - loss: 0.2212 - accuracy: 0.9047 - val_loss: 0.2242 - val_accuracy: 0.9196\n",
            "Epoch 44/50\n",
            "1007/1007 [==============================] - 2s 2ms/step - loss: 0.2186 - accuracy: 0.9017 - val_loss: 0.2279 - val_accuracy: 0.9018\n",
            "Epoch 45/50\n",
            "1007/1007 [==============================] - 2s 2ms/step - loss: 0.2173 - accuracy: 0.9027 - val_loss: 0.2233 - val_accuracy: 0.9107\n",
            "Epoch 46/50\n",
            "1007/1007 [==============================] - 2s 2ms/step - loss: 0.2189 - accuracy: 0.9027 - val_loss: 0.2251 - val_accuracy: 0.9018\n",
            "Epoch 47/50\n",
            "1007/1007 [==============================] - 2s 2ms/step - loss: 0.2164 - accuracy: 0.9017 - val_loss: 0.2287 - val_accuracy: 0.9018\n",
            "Epoch 48/50\n",
            "1007/1007 [==============================] - 2s 2ms/step - loss: 0.2160 - accuracy: 0.9027 - val_loss: 0.2307 - val_accuracy: 0.9018\n",
            "Epoch 49/50\n",
            "1007/1007 [==============================] - 3s 3ms/step - loss: 0.2149 - accuracy: 0.9067 - val_loss: 0.2280 - val_accuracy: 0.9018\n",
            "Epoch 50/50\n",
            "1007/1007 [==============================] - 2s 2ms/step - loss: 0.2143 - accuracy: 0.9037 - val_loss: 0.2261 - val_accuracy: 0.9107\n"
          ]
        }
      ]
    },
    {
      "cell_type": "code",
      "source": [
        "from plotly.subplots import make_subplots\n",
        "import plotly.graph_objects as go"
      ],
      "metadata": {
        "id": "hmkgdb6JRXp_"
      },
      "execution_count": 14,
      "outputs": []
    },
    {
      "cell_type": "code",
      "source": [
        "fig = go.Figure()\n",
        "fig.add_trace(go.Scattergl(y=quality_2.history['loss'],\n",
        "                    name='Train'))\n",
        "fig.add_trace(go.Scattergl(y=quality_2.history['val_loss'],\n",
        "                    name='Valid'))\n",
        "fig.update_layout(height=500, width=700,\n",
        "                  xaxis_title='Epoch',\n",
        "                  yaxis_title='Loss')\n",
        "fig.show()"
      ],
      "metadata": {
        "colab": {
          "base_uri": "https://localhost:8080/",
          "height": 517
        },
        "id": "yPYXtYo2QiWu",
        "outputId": "561ca938-ea79-4e40-e555-85d98532b76e"
      },
      "execution_count": 16,
      "outputs": [
        {
          "output_type": "display_data",
          "data": {
            "text/html": [
              "<html>\n",
              "<head><meta charset=\"utf-8\" /></head>\n",
              "<body>\n",
              "    <div>            <script src=\"https://cdnjs.cloudflare.com/ajax/libs/mathjax/2.7.5/MathJax.js?config=TeX-AMS-MML_SVG\"></script><script type=\"text/javascript\">if (window.MathJax) {MathJax.Hub.Config({SVG: {font: \"STIX-Web\"}});}</script>                <script type=\"text/javascript\">window.PlotlyConfig = {MathJaxConfig: 'local'};</script>\n",
              "        <script src=\"https://cdn.plot.ly/plotly-2.8.3.min.js\"></script>                <div id=\"ee2636fd-69b3-47e2-b900-12a7e76353e0\" class=\"plotly-graph-div\" style=\"height:500px; width:700px;\"></div>            <script type=\"text/javascript\">                                    window.PLOTLYENV=window.PLOTLYENV || {};                                    if (document.getElementById(\"ee2636fd-69b3-47e2-b900-12a7e76353e0\")) {                    Plotly.newPlot(                        \"ee2636fd-69b3-47e2-b900-12a7e76353e0\",                        [{\"name\":\"Train\",\"y\":[0.41506388783454895,0.3107319474220276,0.2981000542640686,0.2918228209018707,0.28541308641433716,0.28119829297065735,0.27799010276794434,0.27473151683807373,0.27081939578056335,0.26777201890945435,0.2658613920211792,0.2599593698978424,0.2602841854095459,0.25966936349868774,0.2573869228363037,0.2558901011943817,0.25396180152893066,0.25283652544021606,0.250983864068985,0.2491295039653778,0.24732325971126556,0.24650388956069946,0.245465949177742,0.24313481152057648,0.24302585422992706,0.241760715842247,0.23963266611099243,0.23729486763477325,0.23542539775371552,0.2353103905916214,0.23379339277744293,0.23214374482631683,0.23139536380767822,0.23110102117061615,0.23042502999305725,0.22846870124340057,0.22795993089675903,0.22446373105049133,0.2251145988702774,0.22279003262519836,0.22226516902446747,0.2205277532339096,0.22123706340789795,0.21863016486167908,0.21731802821159363,0.2189033031463623,0.21642647683620453,0.21595680713653564,0.21490353345870972,0.21429386734962463],\"type\":\"scattergl\"},{\"name\":\"Valid\",\"y\":[0.32471558451652527,0.30490994453430176,0.2946911156177521,0.28710514307022095,0.28270137310028076,0.2769985496997833,0.2767253816127777,0.2708357572555542,0.27045658230781555,0.259808748960495,0.258089154958725,0.25952351093292236,0.25301387906074524,0.24648186564445496,0.24509768187999725,0.24496181309223175,0.24640145897865295,0.24550943076610565,0.2378690540790558,0.2347094565629959,0.2359267771244049,0.23438234627246857,0.23451049625873566,0.23400618135929108,0.23318584263324738,0.22905811667442322,0.22671623528003693,0.2253793329000473,0.22760750353336334,0.2261948138475418,0.22817757725715637,0.21991606056690216,0.22480204701423645,0.2220018208026886,0.2226870059967041,0.21988068521022797,0.22401952743530273,0.21994172036647797,0.2207913100719452,0.22316162288188934,0.22452305257320404,0.2191053330898285,0.2241782397031784,0.2278904914855957,0.22333194315433502,0.22510237991809845,0.22872547805309296,0.23067082464694977,0.22799213230609894,0.2261328548192978],\"type\":\"scattergl\"}],                        {\"template\":{\"data\":{\"bar\":[{\"error_x\":{\"color\":\"#2a3f5f\"},\"error_y\":{\"color\":\"#2a3f5f\"},\"marker\":{\"line\":{\"color\":\"#E5ECF6\",\"width\":0.5},\"pattern\":{\"fillmode\":\"overlay\",\"size\":10,\"solidity\":0.2}},\"type\":\"bar\"}],\"barpolar\":[{\"marker\":{\"line\":{\"color\":\"#E5ECF6\",\"width\":0.5},\"pattern\":{\"fillmode\":\"overlay\",\"size\":10,\"solidity\":0.2}},\"type\":\"barpolar\"}],\"carpet\":[{\"aaxis\":{\"endlinecolor\":\"#2a3f5f\",\"gridcolor\":\"white\",\"linecolor\":\"white\",\"minorgridcolor\":\"white\",\"startlinecolor\":\"#2a3f5f\"},\"baxis\":{\"endlinecolor\":\"#2a3f5f\",\"gridcolor\":\"white\",\"linecolor\":\"white\",\"minorgridcolor\":\"white\",\"startlinecolor\":\"#2a3f5f\"},\"type\":\"carpet\"}],\"choropleth\":[{\"colorbar\":{\"outlinewidth\":0,\"ticks\":\"\"},\"type\":\"choropleth\"}],\"contour\":[{\"colorbar\":{\"outlinewidth\":0,\"ticks\":\"\"},\"colorscale\":[[0.0,\"#0d0887\"],[0.1111111111111111,\"#46039f\"],[0.2222222222222222,\"#7201a8\"],[0.3333333333333333,\"#9c179e\"],[0.4444444444444444,\"#bd3786\"],[0.5555555555555556,\"#d8576b\"],[0.6666666666666666,\"#ed7953\"],[0.7777777777777778,\"#fb9f3a\"],[0.8888888888888888,\"#fdca26\"],[1.0,\"#f0f921\"]],\"type\":\"contour\"}],\"contourcarpet\":[{\"colorbar\":{\"outlinewidth\":0,\"ticks\":\"\"},\"type\":\"contourcarpet\"}],\"heatmap\":[{\"colorbar\":{\"outlinewidth\":0,\"ticks\":\"\"},\"colorscale\":[[0.0,\"#0d0887\"],[0.1111111111111111,\"#46039f\"],[0.2222222222222222,\"#7201a8\"],[0.3333333333333333,\"#9c179e\"],[0.4444444444444444,\"#bd3786\"],[0.5555555555555556,\"#d8576b\"],[0.6666666666666666,\"#ed7953\"],[0.7777777777777778,\"#fb9f3a\"],[0.8888888888888888,\"#fdca26\"],[1.0,\"#f0f921\"]],\"type\":\"heatmap\"}],\"heatmapgl\":[{\"colorbar\":{\"outlinewidth\":0,\"ticks\":\"\"},\"colorscale\":[[0.0,\"#0d0887\"],[0.1111111111111111,\"#46039f\"],[0.2222222222222222,\"#7201a8\"],[0.3333333333333333,\"#9c179e\"],[0.4444444444444444,\"#bd3786\"],[0.5555555555555556,\"#d8576b\"],[0.6666666666666666,\"#ed7953\"],[0.7777777777777778,\"#fb9f3a\"],[0.8888888888888888,\"#fdca26\"],[1.0,\"#f0f921\"]],\"type\":\"heatmapgl\"}],\"histogram\":[{\"marker\":{\"pattern\":{\"fillmode\":\"overlay\",\"size\":10,\"solidity\":0.2}},\"type\":\"histogram\"}],\"histogram2d\":[{\"colorbar\":{\"outlinewidth\":0,\"ticks\":\"\"},\"colorscale\":[[0.0,\"#0d0887\"],[0.1111111111111111,\"#46039f\"],[0.2222222222222222,\"#7201a8\"],[0.3333333333333333,\"#9c179e\"],[0.4444444444444444,\"#bd3786\"],[0.5555555555555556,\"#d8576b\"],[0.6666666666666666,\"#ed7953\"],[0.7777777777777778,\"#fb9f3a\"],[0.8888888888888888,\"#fdca26\"],[1.0,\"#f0f921\"]],\"type\":\"histogram2d\"}],\"histogram2dcontour\":[{\"colorbar\":{\"outlinewidth\":0,\"ticks\":\"\"},\"colorscale\":[[0.0,\"#0d0887\"],[0.1111111111111111,\"#46039f\"],[0.2222222222222222,\"#7201a8\"],[0.3333333333333333,\"#9c179e\"],[0.4444444444444444,\"#bd3786\"],[0.5555555555555556,\"#d8576b\"],[0.6666666666666666,\"#ed7953\"],[0.7777777777777778,\"#fb9f3a\"],[0.8888888888888888,\"#fdca26\"],[1.0,\"#f0f921\"]],\"type\":\"histogram2dcontour\"}],\"mesh3d\":[{\"colorbar\":{\"outlinewidth\":0,\"ticks\":\"\"},\"type\":\"mesh3d\"}],\"parcoords\":[{\"line\":{\"colorbar\":{\"outlinewidth\":0,\"ticks\":\"\"}},\"type\":\"parcoords\"}],\"pie\":[{\"automargin\":true,\"type\":\"pie\"}],\"scatter\":[{\"marker\":{\"colorbar\":{\"outlinewidth\":0,\"ticks\":\"\"}},\"type\":\"scatter\"}],\"scatter3d\":[{\"line\":{\"colorbar\":{\"outlinewidth\":0,\"ticks\":\"\"}},\"marker\":{\"colorbar\":{\"outlinewidth\":0,\"ticks\":\"\"}},\"type\":\"scatter3d\"}],\"scattercarpet\":[{\"marker\":{\"colorbar\":{\"outlinewidth\":0,\"ticks\":\"\"}},\"type\":\"scattercarpet\"}],\"scattergeo\":[{\"marker\":{\"colorbar\":{\"outlinewidth\":0,\"ticks\":\"\"}},\"type\":\"scattergeo\"}],\"scattergl\":[{\"marker\":{\"colorbar\":{\"outlinewidth\":0,\"ticks\":\"\"}},\"type\":\"scattergl\"}],\"scattermapbox\":[{\"marker\":{\"colorbar\":{\"outlinewidth\":0,\"ticks\":\"\"}},\"type\":\"scattermapbox\"}],\"scatterpolar\":[{\"marker\":{\"colorbar\":{\"outlinewidth\":0,\"ticks\":\"\"}},\"type\":\"scatterpolar\"}],\"scatterpolargl\":[{\"marker\":{\"colorbar\":{\"outlinewidth\":0,\"ticks\":\"\"}},\"type\":\"scatterpolargl\"}],\"scatterternary\":[{\"marker\":{\"colorbar\":{\"outlinewidth\":0,\"ticks\":\"\"}},\"type\":\"scatterternary\"}],\"surface\":[{\"colorbar\":{\"outlinewidth\":0,\"ticks\":\"\"},\"colorscale\":[[0.0,\"#0d0887\"],[0.1111111111111111,\"#46039f\"],[0.2222222222222222,\"#7201a8\"],[0.3333333333333333,\"#9c179e\"],[0.4444444444444444,\"#bd3786\"],[0.5555555555555556,\"#d8576b\"],[0.6666666666666666,\"#ed7953\"],[0.7777777777777778,\"#fb9f3a\"],[0.8888888888888888,\"#fdca26\"],[1.0,\"#f0f921\"]],\"type\":\"surface\"}],\"table\":[{\"cells\":{\"fill\":{\"color\":\"#EBF0F8\"},\"line\":{\"color\":\"white\"}},\"header\":{\"fill\":{\"color\":\"#C8D4E3\"},\"line\":{\"color\":\"white\"}},\"type\":\"table\"}]},\"layout\":{\"annotationdefaults\":{\"arrowcolor\":\"#2a3f5f\",\"arrowhead\":0,\"arrowwidth\":1},\"autotypenumbers\":\"strict\",\"coloraxis\":{\"colorbar\":{\"outlinewidth\":0,\"ticks\":\"\"}},\"colorscale\":{\"diverging\":[[0,\"#8e0152\"],[0.1,\"#c51b7d\"],[0.2,\"#de77ae\"],[0.3,\"#f1b6da\"],[0.4,\"#fde0ef\"],[0.5,\"#f7f7f7\"],[0.6,\"#e6f5d0\"],[0.7,\"#b8e186\"],[0.8,\"#7fbc41\"],[0.9,\"#4d9221\"],[1,\"#276419\"]],\"sequential\":[[0.0,\"#0d0887\"],[0.1111111111111111,\"#46039f\"],[0.2222222222222222,\"#7201a8\"],[0.3333333333333333,\"#9c179e\"],[0.4444444444444444,\"#bd3786\"],[0.5555555555555556,\"#d8576b\"],[0.6666666666666666,\"#ed7953\"],[0.7777777777777778,\"#fb9f3a\"],[0.8888888888888888,\"#fdca26\"],[1.0,\"#f0f921\"]],\"sequentialminus\":[[0.0,\"#0d0887\"],[0.1111111111111111,\"#46039f\"],[0.2222222222222222,\"#7201a8\"],[0.3333333333333333,\"#9c179e\"],[0.4444444444444444,\"#bd3786\"],[0.5555555555555556,\"#d8576b\"],[0.6666666666666666,\"#ed7953\"],[0.7777777777777778,\"#fb9f3a\"],[0.8888888888888888,\"#fdca26\"],[1.0,\"#f0f921\"]]},\"colorway\":[\"#636efa\",\"#EF553B\",\"#00cc96\",\"#ab63fa\",\"#FFA15A\",\"#19d3f3\",\"#FF6692\",\"#B6E880\",\"#FF97FF\",\"#FECB52\"],\"font\":{\"color\":\"#2a3f5f\"},\"geo\":{\"bgcolor\":\"white\",\"lakecolor\":\"white\",\"landcolor\":\"#E5ECF6\",\"showlakes\":true,\"showland\":true,\"subunitcolor\":\"white\"},\"hoverlabel\":{\"align\":\"left\"},\"hovermode\":\"closest\",\"mapbox\":{\"style\":\"light\"},\"paper_bgcolor\":\"white\",\"plot_bgcolor\":\"#E5ECF6\",\"polar\":{\"angularaxis\":{\"gridcolor\":\"white\",\"linecolor\":\"white\",\"ticks\":\"\"},\"bgcolor\":\"#E5ECF6\",\"radialaxis\":{\"gridcolor\":\"white\",\"linecolor\":\"white\",\"ticks\":\"\"}},\"scene\":{\"xaxis\":{\"backgroundcolor\":\"#E5ECF6\",\"gridcolor\":\"white\",\"gridwidth\":2,\"linecolor\":\"white\",\"showbackground\":true,\"ticks\":\"\",\"zerolinecolor\":\"white\"},\"yaxis\":{\"backgroundcolor\":\"#E5ECF6\",\"gridcolor\":\"white\",\"gridwidth\":2,\"linecolor\":\"white\",\"showbackground\":true,\"ticks\":\"\",\"zerolinecolor\":\"white\"},\"zaxis\":{\"backgroundcolor\":\"#E5ECF6\",\"gridcolor\":\"white\",\"gridwidth\":2,\"linecolor\":\"white\",\"showbackground\":true,\"ticks\":\"\",\"zerolinecolor\":\"white\"}},\"shapedefaults\":{\"line\":{\"color\":\"#2a3f5f\"}},\"ternary\":{\"aaxis\":{\"gridcolor\":\"white\",\"linecolor\":\"white\",\"ticks\":\"\"},\"baxis\":{\"gridcolor\":\"white\",\"linecolor\":\"white\",\"ticks\":\"\"},\"bgcolor\":\"#E5ECF6\",\"caxis\":{\"gridcolor\":\"white\",\"linecolor\":\"white\",\"ticks\":\"\"}},\"title\":{\"x\":0.05},\"xaxis\":{\"automargin\":true,\"gridcolor\":\"white\",\"linecolor\":\"white\",\"ticks\":\"\",\"title\":{\"standoff\":15},\"zerolinecolor\":\"white\",\"zerolinewidth\":2},\"yaxis\":{\"automargin\":true,\"gridcolor\":\"white\",\"linecolor\":\"white\",\"ticks\":\"\",\"title\":{\"standoff\":15},\"zerolinecolor\":\"white\",\"zerolinewidth\":2}}},\"height\":500,\"width\":700,\"xaxis\":{\"title\":{\"text\":\"Epoch\"}},\"yaxis\":{\"title\":{\"text\":\"Loss\"}}},                        {\"responsive\": true}                    ).then(function(){\n",
              "                            \n",
              "var gd = document.getElementById('ee2636fd-69b3-47e2-b900-12a7e76353e0');\n",
              "var x = new MutationObserver(function (mutations, observer) {{\n",
              "        var display = window.getComputedStyle(gd).display;\n",
              "        if (!display || display === 'none') {{\n",
              "            console.log([gd, 'removed!']);\n",
              "            Plotly.purge(gd);\n",
              "            observer.disconnect();\n",
              "        }}\n",
              "}});\n",
              "\n",
              "// Listen for the removal of the full notebook cells\n",
              "var notebookContainer = gd.closest('#notebook-container');\n",
              "if (notebookContainer) {{\n",
              "    x.observe(notebookContainer, {childList: true});\n",
              "}}\n",
              "\n",
              "// Listen for the clearing of the current output cell\n",
              "var outputEl = gd.closest('.output');\n",
              "if (outputEl) {{\n",
              "    x.observe(outputEl, {childList: true});\n",
              "}}\n",
              "\n",
              "                        })                };                            </script>        </div>\n",
              "</body>\n",
              "</html>"
            ]
          },
          "metadata": {}
        }
      ]
    },
    {
      "cell_type": "code",
      "source": [
        "y_preds_2 = quality_DL_nnet.predict(X_test)\n",
        "y_preds_2_bin = y_preds_2 > 0.5\n",
        "table_2 = pd.DataFrame({'True':y_test,'pred':y_preds_2_bin.T[0]})\n",
        "table_2.groupby(['True','pred']).size().unstack('True')"
      ],
      "metadata": {
        "colab": {
          "base_uri": "https://localhost:8080/",
          "height": 161
        },
        "id": "dJ90HSXVWIbO",
        "outputId": "ce79bea3-092c-4537-fe8c-67f8c4326794"
      },
      "execution_count": 17,
      "outputs": [
        {
          "output_type": "stream",
          "name": "stdout",
          "text": [
            "15/15 [==============================] - 0s 1ms/step\n"
          ]
        },
        {
          "output_type": "execute_result",
          "data": {
            "text/plain": [
              "True     0   1\n",
              "pred          \n",
              "False  394  25\n",
              "True    36  25"
            ],
            "text/html": [
              "\n",
              "  <div id=\"df-22d88707-212c-4230-a92a-d60dffe83366\">\n",
              "    <div class=\"colab-df-container\">\n",
              "      <div>\n",
              "<style scoped>\n",
              "    .dataframe tbody tr th:only-of-type {\n",
              "        vertical-align: middle;\n",
              "    }\n",
              "\n",
              "    .dataframe tbody tr th {\n",
              "        vertical-align: top;\n",
              "    }\n",
              "\n",
              "    .dataframe thead th {\n",
              "        text-align: right;\n",
              "    }\n",
              "</style>\n",
              "<table border=\"1\" class=\"dataframe\">\n",
              "  <thead>\n",
              "    <tr style=\"text-align: right;\">\n",
              "      <th>True</th>\n",
              "      <th>0</th>\n",
              "      <th>1</th>\n",
              "    </tr>\n",
              "    <tr>\n",
              "      <th>pred</th>\n",
              "      <th></th>\n",
              "      <th></th>\n",
              "    </tr>\n",
              "  </thead>\n",
              "  <tbody>\n",
              "    <tr>\n",
              "      <th>False</th>\n",
              "      <td>394</td>\n",
              "      <td>25</td>\n",
              "    </tr>\n",
              "    <tr>\n",
              "      <th>True</th>\n",
              "      <td>36</td>\n",
              "      <td>25</td>\n",
              "    </tr>\n",
              "  </tbody>\n",
              "</table>\n",
              "</div>\n",
              "      <button class=\"colab-df-convert\" onclick=\"convertToInteractive('df-22d88707-212c-4230-a92a-d60dffe83366')\"\n",
              "              title=\"Convert this dataframe to an interactive table.\"\n",
              "              style=\"display:none;\">\n",
              "        \n",
              "  <svg xmlns=\"http://www.w3.org/2000/svg\" height=\"24px\"viewBox=\"0 0 24 24\"\n",
              "       width=\"24px\">\n",
              "    <path d=\"M0 0h24v24H0V0z\" fill=\"none\"/>\n",
              "    <path d=\"M18.56 5.44l.94 2.06.94-2.06 2.06-.94-2.06-.94-.94-2.06-.94 2.06-2.06.94zm-11 1L8.5 8.5l.94-2.06 2.06-.94-2.06-.94L8.5 2.5l-.94 2.06-2.06.94zm10 10l.94 2.06.94-2.06 2.06-.94-2.06-.94-.94-2.06-.94 2.06-2.06.94z\"/><path d=\"M17.41 7.96l-1.37-1.37c-.4-.4-.92-.59-1.43-.59-.52 0-1.04.2-1.43.59L10.3 9.45l-7.72 7.72c-.78.78-.78 2.05 0 2.83L4 21.41c.39.39.9.59 1.41.59.51 0 1.02-.2 1.41-.59l7.78-7.78 2.81-2.81c.8-.78.8-2.07 0-2.86zM5.41 20L4 18.59l7.72-7.72 1.47 1.35L5.41 20z\"/>\n",
              "  </svg>\n",
              "      </button>\n",
              "      \n",
              "  <style>\n",
              "    .colab-df-container {\n",
              "      display:flex;\n",
              "      flex-wrap:wrap;\n",
              "      gap: 12px;\n",
              "    }\n",
              "\n",
              "    .colab-df-convert {\n",
              "      background-color: #E8F0FE;\n",
              "      border: none;\n",
              "      border-radius: 50%;\n",
              "      cursor: pointer;\n",
              "      display: none;\n",
              "      fill: #1967D2;\n",
              "      height: 32px;\n",
              "      padding: 0 0 0 0;\n",
              "      width: 32px;\n",
              "    }\n",
              "\n",
              "    .colab-df-convert:hover {\n",
              "      background-color: #E2EBFA;\n",
              "      box-shadow: 0px 1px 2px rgba(60, 64, 67, 0.3), 0px 1px 3px 1px rgba(60, 64, 67, 0.15);\n",
              "      fill: #174EA6;\n",
              "    }\n",
              "\n",
              "    [theme=dark] .colab-df-convert {\n",
              "      background-color: #3B4455;\n",
              "      fill: #D2E3FC;\n",
              "    }\n",
              "\n",
              "    [theme=dark] .colab-df-convert:hover {\n",
              "      background-color: #434B5C;\n",
              "      box-shadow: 0px 1px 3px 1px rgba(0, 0, 0, 0.15);\n",
              "      filter: drop-shadow(0px 1px 2px rgba(0, 0, 0, 0.3));\n",
              "      fill: #FFFFFF;\n",
              "    }\n",
              "  </style>\n",
              "\n",
              "      <script>\n",
              "        const buttonEl =\n",
              "          document.querySelector('#df-22d88707-212c-4230-a92a-d60dffe83366 button.colab-df-convert');\n",
              "        buttonEl.style.display =\n",
              "          google.colab.kernel.accessAllowed ? 'block' : 'none';\n",
              "\n",
              "        async function convertToInteractive(key) {\n",
              "          const element = document.querySelector('#df-22d88707-212c-4230-a92a-d60dffe83366');\n",
              "          const dataTable =\n",
              "            await google.colab.kernel.invokeFunction('convertToInteractive',\n",
              "                                                     [key], {});\n",
              "          if (!dataTable) return;\n",
              "\n",
              "          const docLinkHtml = 'Like what you see? Visit the ' +\n",
              "            '<a target=\"_blank\" href=https://colab.research.google.com/notebooks/data_table.ipynb>data table notebook</a>'\n",
              "            + ' to learn more about interactive tables.';\n",
              "          element.innerHTML = '';\n",
              "          dataTable['output_type'] = 'display_data';\n",
              "          await google.colab.output.renderOutput(dataTable, element);\n",
              "          const docLink = document.createElement('div');\n",
              "          docLink.innerHTML = docLinkHtml;\n",
              "          element.appendChild(docLink);\n",
              "        }\n",
              "      </script>\n",
              "    </div>\n",
              "  </div>\n",
              "  "
            ]
          },
          "metadata": {},
          "execution_count": 17
        }
      ]
    },
    {
      "cell_type": "code",
      "source": [
        "score_2 = quality_DL_nnet.evaluate(X_test, y_test, verbose = 1)\n",
        "print (score_2)"
      ],
      "metadata": {
        "colab": {
          "base_uri": "https://localhost:8080/"
        },
        "id": "nMuM_o__lHWx",
        "outputId": "68f74b23-864f-4206-9765-4ffc01b6554a"
      },
      "execution_count": 18,
      "outputs": [
        {
          "output_type": "stream",
          "name": "stdout",
          "text": [
            "15/15 [==============================] - 0s 2ms/step - loss: 0.2790 - accuracy: 0.8729\n",
            "[0.27896931767463684, 0.8729166388511658]\n"
          ]
        }
      ]
    },
    {
      "cell_type": "code",
      "source": [
        "fpr2, tpr2, threshold = roc_curve(y_test, y_preds_2)\n",
        "roc_auc2 = auc(fpr2, tpr2)\n",
        "plt.title('Receiver Operating Characteristic')\n",
        "plt.plot(fpr, tpr, 'b', label = 'AUC = %0.2f' % roc_auc)\n",
        "plt.plot(fpr2, tpr2, 'orange', label = 'AUC = %0.2f' % roc_auc2)\n",
        "plt.legend(loc = 'lower right')\n",
        "plt.plot([0, 1], [0, 1],'r--')\n",
        "plt.xlim([0, 1])\n",
        "plt.ylim([0, 1])\n",
        "plt.ylabel('True Positive Rate')\n",
        "plt.xlabel('False Positive Rate')\n",
        "plt.show()"
      ],
      "metadata": {
        "colab": {
          "base_uri": "https://localhost:8080/",
          "height": 295
        },
        "id": "dN8rAiC6WW_s",
        "outputId": "266f172c-abb7-4e9b-cfae-515a95e0ce91"
      },
      "execution_count": 23,
      "outputs": [
        {
          "output_type": "display_data",
          "data": {
            "text/plain": [
              "<Figure size 432x288 with 1 Axes>"
            ],
            "image/png": "[encoded data removed]"
          },
          "metadata": {
            "needs_background": "light"
          }
        }
      ]
    },
    {
      "cell_type": "code",
      "source": [
        "dict_accuracy = {'accuracy':{'Single_layer':0.8917,'Deep_learning':0.8729,'Random_forest':0.9167,'boosted':0.9021, 'CART':0.8646,'Logistics':0.8704,'LDA':0.8661,'QDA':0.8358},'AUC':{'Single_layer':0.87,'Deep_learning':0.86,'Random_forest':0.9188,'boosted':0.9021,'CART':0.8075,'Logistics':0.8777,'LDA':0.8814,'QDA':0.8458}}\n",
        "accuracy=pd.DataFrame(dict_accuracy)\n",
        "accuracy"
      ],
      "metadata": {
        "colab": {
          "base_uri": "https://localhost:8080/",
          "height": 300
        },
        "id": "WQHBx7YWbFGF",
        "outputId": "ff4658c1-c08a-4202-bdad-6ff96510edce"
      },
      "execution_count": 2,
      "outputs": [
        {
          "output_type": "execute_result",
          "data": {
            "text/plain": [
              "               accuracy     AUC\n",
              "Single_layer     0.8917  0.8700\n",
              "Deep_learning    0.8729  0.8600\n",
              "Random_forest    0.9167  0.9188\n",
              "boosted          0.9021  0.9021\n",
              "CART             0.8646  0.8075\n",
              "Logistics        0.8704  0.8777\n",
              "LDA              0.8661  0.8814\n",
              "QDA              0.8358  0.8458"
            ],
            "text/html": [
              "\n",
              "  <div id=\"df-75a1fe29-f408-4569-ab77-b71257237ad0\">\n",
              "    <div class=\"colab-df-container\">\n",
              "      <div>\n",
              "<style scoped>\n",
              "    .dataframe tbody tr th:only-of-type {\n",
              "        vertical-align: middle;\n",
              "    }\n",
              "\n",
              "    .dataframe tbody tr th {\n",
              "        vertical-align: top;\n",
              "    }\n",
              "\n",
              "    .dataframe thead th {\n",
              "        text-align: right;\n",
              "    }\n",
              "</style>\n",
              "<table border=\"1\" class=\"dataframe\">\n",
              "  <thead>\n",
              "    <tr style=\"text-align: right;\">\n",
              "      <th></th>\n",
              "      <th>accuracy</th>\n",
              "      <th>AUC</th>\n",
              "    </tr>\n",
              "  </thead>\n",
              "  <tbody>\n",
              "    <tr>\n",
              "      <th>Single_layer</th>\n",
              "      <td>0.8917</td>\n",
              "      <td>0.8700</td>\n",
              "    </tr>\n",
              "    <tr>\n",
              "      <th>Deep_learning</th>\n",
              "      <td>0.8729</td>\n",
              "      <td>0.8600</td>\n",
              "    </tr>\n",
              "    <tr>\n",
              "      <th>Random_forest</th>\n",
              "      <td>0.9167</td>\n",
              "      <td>0.9188</td>\n",
              "    </tr>\n",
              "    <tr>\n",
              "      <th>boosted</th>\n",
              "      <td>0.9021</td>\n",
              "      <td>0.9021</td>\n",
              "    </tr>\n",
              "    <tr>\n",
              "      <th>CART</th>\n",
              "      <td>0.8646</td>\n",
              "      <td>0.8075</td>\n",
              "    </tr>\n",
              "    <tr>\n",
              "      <th>Logistics</th>\n",
              "      <td>0.8704</td>\n",
              "      <td>0.8777</td>\n",
              "    </tr>\n",
              "    <tr>\n",
              "      <th>LDA</th>\n",
              "      <td>0.8661</td>\n",
              "      <td>0.8814</td>\n",
              "    </tr>\n",
              "    <tr>\n",
              "      <th>QDA</th>\n",
              "      <td>0.8358</td>\n",
              "      <td>0.8458</td>\n",
              "    </tr>\n",
              "  </tbody>\n",
              "</table>\n",
              "</div>\n",
              "      <button class=\"colab-df-convert\" onclick=\"convertToInteractive('df-75a1fe29-f408-4569-ab77-b71257237ad0')\"\n",
              "              title=\"Convert this dataframe to an interactive table.\"\n",
              "              style=\"display:none;\">\n",
              "        \n",
              "  <svg xmlns=\"http://www.w3.org/2000/svg\" height=\"24px\"viewBox=\"0 0 24 24\"\n",
              "       width=\"24px\">\n",
              "    <path d=\"M0 0h24v24H0V0z\" fill=\"none\"/>\n",
              "    <path d=\"M18.56 5.44l.94 2.06.94-2.06 2.06-.94-2.06-.94-.94-2.06-.94 2.06-2.06.94zm-11 1L8.5 8.5l.94-2.06 2.06-.94-2.06-.94L8.5 2.5l-.94 2.06-2.06.94zm10 10l.94 2.06.94-2.06 2.06-.94-2.06-.94-.94-2.06-.94 2.06-2.06.94z\"/><path d=\"M17.41 7.96l-1.37-1.37c-.4-.4-.92-.59-1.43-.59-.52 0-1.04.2-1.43.59L10.3 9.45l-7.72 7.72c-.78.78-.78 2.05 0 2.83L4 21.41c.39.39.9.59 1.41.59.51 0 1.02-.2 1.41-.59l7.78-7.78 2.81-2.81c.8-.78.8-2.07 0-2.86zM5.41 20L4 18.59l7.72-7.72 1.47 1.35L5.41 20z\"/>\n",
              "  </svg>\n",
              "      </button>\n",
              "      \n",
              "  <style>\n",
              "    .colab-df-container {\n",
              "      display:flex;\n",
              "      flex-wrap:wrap;\n",
              "      gap: 12px;\n",
              "    }\n",
              "\n",
              "    .colab-df-convert {\n",
              "      background-color: #E8F0FE;\n",
              "      border: none;\n",
              "      border-radius: 50%;\n",
              "      cursor: pointer;\n",
              "      display: none;\n",
              "      fill: #1967D2;\n",
              "      height: 32px;\n",
              "      padding: 0 0 0 0;\n",
              "      width: 32px;\n",
              "    }\n",
              "\n",
              "    .colab-df-convert:hover {\n",
              "      background-color: #E2EBFA;\n",
              "      box-shadow: 0px 1px 2px rgba(60, 64, 67, 0.3), 0px 1px 3px 1px rgba(60, 64, 67, 0.15);\n",
              "      fill: #174EA6;\n",
              "    }\n",
              "\n",
              "    [theme=dark] .colab-df-convert {\n",
              "      background-color: #3B4455;\n",
              "      fill: #D2E3FC;\n",
              "    }\n",
              "\n",
              "    [theme=dark] .colab-df-convert:hover {\n",
              "      background-color: #434B5C;\n",
              "      box-shadow: 0px 1px 3px 1px rgba(0, 0, 0, 0.15);\n",
              "      filter: drop-shadow(0px 1px 2px rgba(0, 0, 0, 0.3));\n",
              "      fill: #FFFFFF;\n",
              "    }\n",
              "  </style>\n",
              "\n",
              "      <script>\n",
              "        const buttonEl =\n",
              "          document.querySelector('#df-75a1fe29-f408-4569-ab77-b71257237ad0 button.colab-df-convert');\n",
              "        buttonEl.style.display =\n",
              "          google.colab.kernel.accessAllowed ? 'block' : 'none';\n",
              "\n",
              "        async function convertToInteractive(key) {\n",
              "          const element = document.querySelector('#df-75a1fe29-f408-4569-ab77-b71257237ad0');\n",
              "          const dataTable =\n",
              "            await google.colab.kernel.invokeFunction('convertToInteractive',\n",
              "                                                     [key], {});\n",
              "          if (!dataTable) return;\n",
              "\n",
              "          const docLinkHtml = 'Like what you see? Visit the ' +\n",
              "            '<a target=\"_blank\" href=https://colab.research.google.com/notebooks/data_table.ipynb>data table notebook</a>'\n",
              "            + ' to learn more about interactive tables.';\n",
              "          element.innerHTML = '';\n",
              "          dataTable['output_type'] = 'display_data';\n",
              "          await google.colab.output.renderOutput(dataTable, element);\n",
              "          const docLink = document.createElement('div');\n",
              "          docLink.innerHTML = docLinkHtml;\n",
              "          element.appendChild(docLink);\n",
              "        }\n",
              "      </script>\n",
              "    </div>\n",
              "  </div>\n",
              "  "
            ]
          },
          "metadata": {},
          "execution_count": 2
        }
      ]
    }
  ]
}