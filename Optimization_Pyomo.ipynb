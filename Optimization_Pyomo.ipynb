{
  "nbformat": 4,
  "nbformat_minor": 0,
  "metadata": {
    "colab": {
      "provenance": [],
      "authorship_tag": "ABX9TyP//Q4OXgEjZJanItJmETJN",
      "include_colab_link": true
    },
    "kernelspec": {
      "name": "python3",
      "display_name": "Python 3"
    },
    "language_info": {
      "name": "python"
    }
  },
  "cells": [
    {
      "cell_type": "markdown",
      "metadata": {
        "id": "view-in-github",
        "colab_type": "text"
      },
      "source": [
        "<a href=\"https://colab.research.google.com/github/BenShieh233/Learn_Python/blob/main/Optimization_Pyomo.ipynb\" target=\"_parent\"><img src=\"https://colab.research.google.com/assets/colab-badge.svg\" alt=\"Open In Colab\"/></a>"
      ]
    },
    {
      "cell_type": "markdown",
      "source": [
        "#Set-Up"
      ],
      "metadata": {
        "id": "hL77L3Uei59o"
      }
    },
    {
      "cell_type": "code",
      "source": [
        "#Copy-and-paste the code below to use as \"set-up\" when your optimization model uses Pyomo. \n",
        "#Uncomment the appropriate solver that you need.\n",
        "#for reference, see https://colab.research.google.com/drive/1yGk8RB5NXrcx9f1Tb-oCiWzbxh61hZLI?usp=sharing\n",
        "\n",
        "#installing and importing pyomo\n",
        "!pip install -q pyomo\n",
        "from pyomo.environ import *\n",
        "\n",
        "###installing and importing specific solvers (uncomment the one(s) you need)\n",
        "###glpk\n",
        "#!apt-get install -y -qq glpk-utils\n",
        "###cbc\n",
        "#!apt-get install -y -qq coinor-cbc\n",
        "###ipopt\n",
        "!wget -N -q \"https://ampl.com/dl/open/ipopt/ipopt-linux64.zip\"\n",
        "!unzip -o -q ipopt-linux64\n",
        "###bonmin\n",
        "#!wget -N -q \"https://ampl.com/dl/open/bonmin/bonmin-linux64.zip\"\n",
        "#!unzip -o -q bonmin-linux64\n",
        "###couenne\n",
        "#!wget -N -q \"https://ampl.com/dl/open/couenne/couenne-linux64.zip\"\n",
        "#!unzip -o -q couenne-linux64\n",
        "###geocode\n",
        "#!wget -N -q \"https://ampl.com/dl/open/gecode/gecode-linux64.zip\"\n",
        "#!unzip -o -q gecode-linux64\n",
        "\n",
        "#Using the solvers:\n",
        "#SolverFactory('glpk', executable='/usr/bin/glpsol')\n",
        "#SolverFactory('cbc', executable='/usr/bin/cbc')\n",
        "#SolverFactory('ipopt', executable='/content/ipopt')\n",
        "#SolverFactory('bonmin', executable='/content/bonmin')\n",
        "#SolverFactory('couenne', executable='/content/couenne')\n",
        "#SolverFactory('gecode', executable='/content/gecode')"
      ],
      "metadata": {
        "id": "T3OEUrcJgiSR",
        "colab": {
          "base_uri": "https://localhost:8080/"
        },
        "outputId": "47188e5c-5cb9-42a5-d5ad-60bf3c104c7e"
      },
      "execution_count": 1,
      "outputs": [
        {
          "output_type": "stream",
          "name": "stdout",
          "text": [
            "\u001b[K     |████████████████████████████████| 9.7 MB 5.4 MB/s \n",
            "\u001b[K     |████████████████████████████████| 49 kB 2.5 MB/s \n",
            "\u001b[?25h"
          ]
        }
      ]
    },
    {
      "cell_type": "markdown",
      "source": [
        "#Review: Solution to Participation Question\n",
        "minimize f(x) = 4x^4 - 3x^3 - 9x + 20"
      ],
      "metadata": {
        "id": "FCGB00H5i9W2"
      }
    },
    {
      "cell_type": "code",
      "source": [
        "#initialize a \"Concrete Model\"\n",
        "model = ConcreteModel()\n",
        "\n",
        "#initialize DVs\n",
        "model.x = Var(domain = Reals) #You can google \"pyomo domain sets\" to see several domain examples\n",
        "\n",
        "#define the objective\n",
        "model.Objective = Objective(expr = 4*model.x**4 - 3*model.x**3 - 9*model.x + 20, sense = minimize)\n",
        "\n",
        "#(Optional) You can use model.pprint() to see what you've done so far\n",
        "model.pprint()"
      ],
      "metadata": {
        "id": "ClfOoQsLvr50",
        "colab": {
          "base_uri": "https://localhost:8080/"
        },
        "outputId": "16dea8f1-8e18-454c-b283-df4c491f5708"
      },
      "execution_count": 2,
      "outputs": [
        {
          "output_type": "stream",
          "name": "stdout",
          "text": [
            "1 Var Declarations\n",
            "    x : Size=1, Index=None\n",
            "        Key  : Lower : Value : Upper : Fixed : Stale : Domain\n",
            "        None :  None :  None :  None : False :  True :  Reals\n",
            "\n",
            "1 Objective Declarations\n",
            "    Objective : Size=1, Index=None, Active=True\n",
            "        Key  : Active : Sense    : Expression\n",
            "        None :   True : minimize : 4*x**4 - 3*x**3 - 9*x + 20\n",
            "\n",
            "2 Declarations: x Objective\n"
          ]
        }
      ]
    },
    {
      "cell_type": "code",
      "source": [
        "#solve model\n",
        "opt = SolverFactory('ipopt', executable='/content/ipopt')\n",
        "\n",
        "results = opt.solve(model, tee = True) #setting tee = False hides the diagnostic outputs"
      ],
      "metadata": {
        "id": "zec5TD0Lw3ap",
        "colab": {
          "base_uri": "https://localhost:8080/"
        },
        "outputId": "6fca9154-6b43-42c9-d31f-8d4cb9b072ab"
      },
      "execution_count": 3,
      "outputs": [
        {
          "output_type": "stream",
          "name": "stdout",
          "text": [
            "Ipopt 3.12.13: \n",
            "\n",
            "******************************************************************************\n",
            "This program contains Ipopt, a library for large-scale nonlinear optimization.\n",
            " Ipopt is released as open source code under the Eclipse Public License (EPL).\n",
            "         For more information visit http://projects.coin-or.org/Ipopt\n",
            "******************************************************************************\n",
            "\n",
            "This is Ipopt version 3.12.13, running with linear solver mumps.\n",
            "NOTE: Other linear solvers might be more efficient (see Ipopt documentation).\n",
            "\n",
            "Number of nonzeros in equality constraint Jacobian...:        0\n",
            "Number of nonzeros in inequality constraint Jacobian.:        0\n",
            "Number of nonzeros in Lagrangian Hessian.............:        1\n",
            "\n",
            "Total number of variables............................:        1\n",
            "                     variables with only lower bounds:        0\n",
            "                variables with lower and upper bounds:        0\n",
            "                     variables with only upper bounds:        0\n",
            "Total number of equality constraints.................:        0\n",
            "Total number of inequality constraints...............:        0\n",
            "        inequality constraints with only lower bounds:        0\n",
            "   inequality constraints with lower and upper bounds:        0\n",
            "        inequality constraints with only upper bounds:        0\n",
            "\n",
            "iter    objective    inf_pr   inf_du lg(mu)  ||d||  lg(rg) alpha_du alpha_pr  ls\n",
            "   0  2.0000000e+01 0.00e+00 9.00e+00  -1.0 0.00e+00    -  0.00e+00 0.00e+00   0\n",
            "   1  1.4097497e+01 0.00e+00 1.55e+01  -1.0 9.00e+04  -4.0 1.00e+00 1.53e-05f 17\n",
            "   2  1.2046073e+01 0.00e+00 2.94e+00  -1.0 2.35e-01    -  1.00e+00 1.00e+00f  1\n",
            "   3  1.1937503e+01 0.00e+00 2.21e-01  -1.0 7.04e-02    -  1.00e+00 1.00e+00f  1\n",
            "   4  1.1936815e+01 0.00e+00 1.63e-03  -1.7 6.21e-03    -  1.00e+00 1.00e+00f  1\n",
            "   5  1.1936815e+01 0.00e+00 9.07e-08  -3.8 4.65e-05    -  1.00e+00 1.00e+00f  1\n",
            "   6  1.1936815e+01 0.00e+00 3.55e-15  -8.6 2.59e-09    -  1.00e+00 1.00e+00f  1\n",
            "\n",
            "Number of Iterations....: 6\n",
            "\n",
            "                                   (scaled)                 (unscaled)\n",
            "Objective...............:   1.1936814677331192e+01    1.1936814677331192e+01\n",
            "Dual infeasibility......:   3.5527136788005009e-15    3.5527136788005009e-15\n",
            "Constraint violation....:   0.0000000000000000e+00    0.0000000000000000e+00\n",
            "Complementarity.........:   0.0000000000000000e+00    0.0000000000000000e+00\n",
            "Overall NLP error.......:   3.5527136788005009e-15    3.5527136788005009e-15\n",
            "\n",
            "\n",
            "Number of objective function evaluations             = 27\n",
            "Number of objective gradient evaluations             = 7\n",
            "Number of equality constraint evaluations            = 0\n",
            "Number of inequality constraint evaluations          = 0\n",
            "Number of equality constraint Jacobian evaluations   = 0\n",
            "Number of inequality constraint Jacobian evaluations = 0\n",
            "Number of Lagrangian Hessian evaluations             = 6\n",
            "Total CPU secs in IPOPT (w/o function evaluations)   =      0.006\n",
            "Total CPU secs in NLP function evaluations           =      0.000\n",
            "\n",
            "EXIT: Optimal Solution Found.\n",
            "\b\b\b\b\b\b\b\b\b\b\b\b\b\b\b"
          ]
        }
      ]
    },
    {
      "cell_type": "code",
      "source": [
        "#print relevant values\n",
        "print(\"x* = \", model.x()) #alternatively you can use value(model.x)\n",
        "print(\"obj* = \", model.Objective()) #alternatively you can use value(model.Objective)"
      ],
      "metadata": {
        "id": "9k8bPtPVxgMw",
        "colab": {
          "base_uri": "https://localhost:8080/"
        },
        "outputId": "1c83322c-558f-40de-e306-97cdea8a4f34"
      },
      "execution_count": 4,
      "outputs": [
        {
          "output_type": "stream",
          "name": "stdout",
          "text": [
            "x* =  1.0616077811644107\n",
            "obj* =  11.936814677331192\n"
          ]
        }
      ]
    },
    {
      "cell_type": "markdown",
      "source": [
        "##Repeating with Objective as a Function\n"
      ],
      "metadata": {
        "id": "TgCFj5DiyKN4"
      }
    },
    {
      "cell_type": "code",
      "source": [
        "#define the objective function\n",
        "def obj_function(x):\n",
        "  return 4*x**4 - 3*x**3 - 9*x + 20\n",
        "\n",
        "#initialize a \"Concrete Model\"\n",
        "model2 = ConcreteModel()\n",
        "\n",
        "#initialize DVs\n",
        "model2.x = Var(domain = Reals) #You can google \"pyomo domain sets\" to see several domain examples\n",
        "\n",
        "#define the objective using the function defined earlier\n",
        "model2.Objective = Objective(expr = obj_function(model2.x), sense = minimize)\n",
        "\n",
        "#(Optional) You can use model.pprint() to see what you've done so far\n",
        "model2.pprint()"
      ],
      "metadata": {
        "id": "O20nA4mbyYKI"
      },
      "execution_count": null,
      "outputs": []
    },
    {
      "cell_type": "code",
      "source": [
        "#solve model & print relevant values\n",
        "opt = SolverFactory('ipopt', executable='/content/ipopt')\n",
        "\n",
        "results = opt.solve(model2, tee = False) #setting tee = False hides the diagnostic outputs\n",
        "\n",
        "print(\"x* = \", model2.x()) #alternatively you can use value(model.x)\n",
        "print(\"obj* = \", model2.Objective()) #alternatively you can use value(model.Objective)"
      ],
      "metadata": {
        "id": "XAZCzUzfF517"
      },
      "execution_count": null,
      "outputs": []
    },
    {
      "cell_type": "markdown",
      "source": [
        "#Demo: Optimizing Existing Models (Adbudget)\n",
        "We created the below model in the previous module. Use ipopt in Pyomo to find the optimal price. "
      ],
      "metadata": {
        "id": "rmvUM4g8P1kl"
      }
    },
    {
      "cell_type": "code",
      "source": [
        "def ad_profit(unit_cost = 25,\n",
        "              sales_price = 40,\n",
        "              seasonality_factor = [.9, 1.1, .8, 1.2],\n",
        "              salesforce_cost = [8000, 8000, 9000, 9000],\n",
        "              overhead_rate = .15,\n",
        "              k = 35,\n",
        "              b = 3000,\n",
        "              ad_spend = [10000, 10000, 10000, 10000],\n",
        "              num_quarters = 4):\n",
        "  #Gross profit calculations\n",
        "  sales_quantity = [k*seasonality_factor[i]*((b + ad_spend[i])**.5) for i in range(num_quarters)]\n",
        "  cogs = [unit_cost*sales_quantity[i] for i in range(num_quarters)]\n",
        "  sales_rev = [sales_price*sales_quantity[i] for i in range(num_quarters)]\n",
        "  gross_profit = [sales_rev[i] - cogs[i] for i in range(num_quarters)]\n",
        "  total_gross_profit = sum(gross_profit)\n",
        "  #operating expense calculation\n",
        "  overhead = [overhead_rate*sales_rev[i] for i in range(num_quarters)]\n",
        "  operating_expenses = [overhead[i] + salesforce_cost[i] + ad_spend[i] for i in range(num_quarters)]\n",
        "  total_operating_expenses = sum(operating_expenses)\n",
        "  #operating profit\n",
        "  operating_profit = total_gross_profit - total_operating_expenses\n",
        "  return operating_profit"
      ],
      "metadata": {
        "id": "6z9aeS8iQxBc"
      },
      "execution_count": 5,
      "outputs": []
    },
    {
      "cell_type": "code",
      "source": [
        "num_quarters = 4\n",
        "\n",
        "#initialize a \"Concrete Model\"\n",
        "model3 = ConcreteModel()\n",
        "\n",
        "#initialize DVs\n",
        "model3.ad_spend = Var(range(num_quarters), domain = NonNegativeReals)\n",
        "\n",
        "#define the objective\n",
        "model3.operating_profit = Objective(expr = ad_profit(ad_spend = model3.ad_spend), sense = maximize)\n",
        "\n",
        "#(Optional) You can use model.pprint() to see what you've done so far\n",
        "model3.pprint()"
      ],
      "metadata": {
        "id": "MlpVfW9HQ1ZC",
        "colab": {
          "base_uri": "https://localhost:8080/"
        },
        "outputId": "3b9907af-8dc9-4516-a7c2-a441c2d0150b"
      },
      "execution_count": 6,
      "outputs": [
        {
          "output_type": "stream",
          "name": "stdout",
          "text": [
            "1 Set Declarations\n",
            "    ad_spend_index : Size=1, Index=None, Ordered=Insertion\n",
            "        Key  : Dimen : Domain : Size : Members\n",
            "        None :     1 :    Any :    4 : {0, 1, 2, 3}\n",
            "\n",
            "1 Var Declarations\n",
            "    ad_spend : Size=4, Index=ad_spend_index\n",
            "        Key : Lower : Value : Upper : Fixed : Stale : Domain\n",
            "          0 :     0 :  None :  None : False :  True : NonNegativeReals\n",
            "          1 :     0 :  None :  None : False :  True : NonNegativeReals\n",
            "          2 :     0 :  None :  None : False :  True : NonNegativeReals\n",
            "          3 :     0 :  None :  None : False :  True : NonNegativeReals\n",
            "\n",
            "1 Objective Declarations\n",
            "    operating_profit : Size=1, Index=None, Active=True\n",
            "        Key  : Active : Sense    : Expression\n",
            "        None :   True : maximize : 40*(31.5*(3000 + ad_spend[0])**0.5) - 25*(31.5*(3000 + ad_spend[0])**0.5) + 40*(38.5*(3000 + ad_spend[1])**0.5) - 25*(38.5*(3000 + ad_spend[1])**0.5) + 40*(28.0*(3000 + ad_spend[2])**0.5) - 25*(28.0*(3000 + ad_spend[2])**0.5) + 40*(42.0*(3000 + ad_spend[3])**0.5) - 25*(42.0*(3000 + ad_spend[3])**0.5) - (0.15*(40*(31.5*(3000 + ad_spend[0])**0.5)) + 8000 + ad_spend[0] + 0.15*(40*(38.5*(3000 + ad_spend[1])**0.5)) + 8000 + ad_spend[1] + 0.15*(40*(28.0*(3000 + ad_spend[2])**0.5)) + 9000 + ad_spend[2] + 0.15*(40*(42.0*(3000 + ad_spend[3])**0.5)) + 9000 + ad_spend[3])\n",
            "\n",
            "3 Declarations: ad_spend_index ad_spend operating_profit\n"
          ]
        }
      ]
    },
    {
      "cell_type": "code",
      "source": [
        "#solve model & print relevant values\n",
        "opt = SolverFactory('ipopt', executable='/content/ipopt')\n",
        "\n",
        "results = opt.solve(model3, tee = False) #setting tee = False hides the diagnostic outputs"
      ],
      "metadata": {
        "id": "IVZ4ZXubRTsm"
      },
      "execution_count": 7,
      "outputs": []
    },
    {
      "cell_type": "code",
      "source": [
        "for i in range(num_quarters):\n",
        "  print(f\"optimal adspend in Q{i+1} = {model3.ad_spend[i]()}\")\n",
        "print(f\"optimal operating profit is {model3.operating_profit()}\")"
      ],
      "metadata": {
        "id": "8UkhPGPWRX7p",
        "colab": {
          "base_uri": "https://localhost:8080/"
        },
        "outputId": "d59cf7a1-0a4b-45fc-ae50-ba92e85dd934"
      },
      "execution_count": 8,
      "outputs": [
        {
          "output_type": "stream",
          "name": "stdout",
          "text": [
            "optimal adspend in Q1 = 17093.06250000487\n",
            "optimal adspend in Q2 = 27015.562500004056\n",
            "optimal adspend in Q3 = 12876.00000000539\n",
            "optimal adspend in Q4 = 32721.00000000369\n",
            "optimal operating profit is 79705.62500000003\n"
          ]
        }
      ]
    },
    {
      "cell_type": "markdown",
      "source": [
        "#Your Turn A: Practice writing an optimizing problem\n",
        "A rectangular box must have volume at least 500 in^3. Find the shape that has the smallest \"mailing length\" (the sum of the three edge lengths). What is this minimum \"mailing length?\" (Use ipopt since this is a nonlinear problem). I've started some code for you."
      ],
      "metadata": {
        "id": "A8gzMJrpGX6y"
      }
    },
    {
      "cell_type": "code",
      "source": [
        "def mailing_length(x,y,z):\n",
        "  return x+y+z\n",
        "\n",
        "#initialize a \"Concrete Model\"\n",
        "model = ConcreteModel()\n",
        "\n",
        "#initialize DVs\n",
        "model.x = Var(domain = NonNegativeReals)\n",
        "model.y = Var(domain = NonNegativeReals)\n",
        "model.z = Var(domain = NonNegativeReals)\n",
        "#define the objective\n",
        "model.Objective = Objective(expr = mailing_length(model.x,model.y,model.z), sense = minimize)\n",
        "#define the constraint\n",
        "model.Constraint = Constraint(expr = model.x * model.y * model.z >= 500)\n",
        "\n",
        "#(Optional) You can use model.pprint() to see what you've done so far\n",
        "#model.pprint()"
      ],
      "metadata": {
        "id": "72fzVk87HiRg"
      },
      "execution_count": 30,
      "outputs": []
    },
    {
      "cell_type": "code",
      "source": [
        "#solve model & print relevant values\n",
        "opt = SolverFactory('ipopt', executable='/content/ipopt')\n",
        "\n",
        "results = opt.solve(model, tee = False) #setting tee = False hides the diagnostic outputs"
      ],
      "metadata": {
        "id": "j5jRzrofIKOn"
      },
      "execution_count": 33,
      "outputs": []
    },
    {
      "cell_type": "markdown",
      "source": [
        "#Your Turn B: Using Existing Functions (office building)\n",
        "Below, I've included a completed \"office building\" model as a function. Use Pyomo to solve for the price per square foot in each year that maximizes the total earnings after tax. Use ipopt (since this is a nonlinear problem)."
      ],
      "metadata": {
        "id": "UTp7i-5iSgHA"
      }
    },
    {
      "cell_type": "code",
      "source": [
        "#print results\n",
        "print(\"x* = \", model.x()) \n",
        "print(\"y* = \", model.y()) \n",
        "print(\"z* = \", model.z()) \n",
        "print(\"obj* = \", model.Objective()) "
      ],
      "metadata": {
        "id": "mVRYu-35IWdn",
        "colab": {
          "base_uri": "https://localhost:8080/"
        },
        "outputId": "b8323a3c-1d7e-40ee-f413-0fc0f0e80b96"
      },
      "execution_count": 32,
      "outputs": [
        {
          "output_type": "stream",
          "name": "stdout",
          "text": [
            "x* =  7.937005234219425\n",
            "y* =  7.937005234219425\n",
            "z* =  7.937005234219425\n",
            "obj* =  23.811015702658274\n"
          ]
        }
      ]
    },
    {
      "cell_type": "code",
      "source": [
        "def office_earnings(total_sqft = 180000,\n",
        "           m = -0.05,\n",
        "           b = 1.5,\n",
        "           op_expense_per_sqft = 1.20,\n",
        "           heating_surcharge_per_sqft = .2,\n",
        "           op_exp_annual_growth = .12,\n",
        "           annual_mortgage = 1500000,\n",
        "           tax_rate = .34,\n",
        "           price_per_sqft = [15, 15, 15, 15, 15],\n",
        "           num_years = 5):\n",
        "  #rev calc\n",
        "  perc_occ = [m*price_per_sqft[i] + b for i in range(num_years)]\n",
        "  sqft_occ = [perc_occ[i]*total_sqft for i in range(num_years)]\n",
        "  revenue = [sqft_occ[i]*price_per_sqft[i] for i in range(num_years)]\n",
        "  #operating expense calculations\n",
        "  base_op_cost_as_percY1 = [(1+op_exp_annual_growth)**i for i in range(num_years)] #note that range(num_years) = range(5) = [0,1,2,3,4] and (1+op_exp_annual_growth)**0 = 1.\n",
        "  base_op_cost = [op_expense_per_sqft*total_sqft*base_op_cost_as_percY1[i] for i in range(num_years)]\n",
        "  heating_surcharge = [perc_occ[i]*base_op_cost[i]*heating_surcharge_per_sqft for i in range(num_years)]\n",
        "  mortgage = [annual_mortgage for i in range(num_years)]\n",
        "  operating_costs = [base_op_cost[i] + heating_surcharge[i] + mortgage[i] for i in range(num_years)]\n",
        "  #before and after-tax earnings\n",
        "  ebt = [revenue[i] - operating_costs[i] for i in range(num_years)]\n",
        "  taxes = [ebt[i]*tax_rate for i in range(num_years)]\n",
        "  earnings_after_tax = [ebt[i] - taxes[i] for i in range(num_years)]\n",
        "  total_earnings_after_tax = sum(earnings_after_tax)\n",
        "  return total_earnings_after_tax"
      ],
      "metadata": {
        "id": "1AbscQhnSkS3"
      },
      "execution_count": 18,
      "outputs": []
    },
    {
      "cell_type": "code",
      "source": [
        "num_years = 5\n",
        "\n",
        "#initialize a \"Concrete Model\"\n",
        "model4 = ConcreteModel()\n",
        "\n",
        "#initialize DVs\n",
        "model4.price_per_sqft = Var(range(num_years), domain = NonNegativeReals)\n",
        "\n",
        "#define the objective\n",
        "model4.office_earnings = Objective(expr = office_earnings(price_per_sqft = model4.price_per_sqft), sense = maximize)\n",
        "\n",
        "#(Optional) You can use model.pprint() to see what you've done so far\n",
        "model4.pprint()"
      ],
      "metadata": {
        "colab": {
          "base_uri": "https://localhost:8080/"
        },
        "id": "6TnJSFQWmTtx",
        "outputId": "007c372b-6fcb-4f25-e976-1777c4526436"
      },
      "execution_count": 25,
      "outputs": [
        {
          "output_type": "stream",
          "name": "stdout",
          "text": [
            "1 Set Declarations\n",
            "    price_per_sqft_index : Size=1, Index=None, Ordered=Insertion\n",
            "        Key  : Dimen : Domain : Size : Members\n",
            "        None :     1 :    Any :    5 : {0, 1, 2, 3, 4}\n",
            "\n",
            "1 Var Declarations\n",
            "    price_per_sqft : Size=5, Index=price_per_sqft_index\n",
            "        Key : Lower : Value : Upper : Fixed : Stale : Domain\n",
            "          0 :     0 :  None :  None : False :  True : NonNegativeReals\n",
            "          1 :     0 :  None :  None : False :  True : NonNegativeReals\n",
            "          2 :     0 :  None :  None : False :  True : NonNegativeReals\n",
            "          3 :     0 :  None :  None : False :  True : NonNegativeReals\n",
            "          4 :     0 :  None :  None : False :  True : NonNegativeReals\n",
            "\n",
            "1 Objective Declarations\n",
            "    office_earnings : Size=1, Index=None, Active=True\n",
            "        Key  : Active : Sense    : Expression\n",
            "        None :   True : maximize : (-0.05*price_per_sqft[0] + 1.5)*180000*price_per_sqft[0] - (216000.0 + (-0.05*price_per_sqft[0] + 1.5)*216000.0*0.2 + 1500000) - ((-0.05*price_per_sqft[0] + 1.5)*180000*price_per_sqft[0] - (216000.0 + (-0.05*price_per_sqft[0] + 1.5)*216000.0*0.2 + 1500000))*0.34 + (-0.05*price_per_sqft[1] + 1.5)*180000*price_per_sqft[1] - (241920.00000000003 + (-0.05*price_per_sqft[1] + 1.5)*241920.00000000003*0.2 + 1500000) - ((-0.05*price_per_sqft[1] + 1.5)*180000*price_per_sqft[1] - (241920.00000000003 + (-0.05*price_per_sqft[1] + 1.5)*241920.00000000003*0.2 + 1500000))*0.34 + (-0.05*price_per_sqft[2] + 1.5)*180000*price_per_sqft[2] - (270950.4 + (-0.05*price_per_sqft[2] + 1.5)*270950.4*0.2 + 1500000) - ((-0.05*price_per_sqft[2] + 1.5)*180000*price_per_sqft[2] - (270950.4 + (-0.05*price_per_sqft[2] + 1.5)*270950.4*0.2 + 1500000))*0.34 + (-0.05*price_per_sqft[3] + 1.5)*180000*price_per_sqft[3] - (303464.4480000001 + (-0.05*price_per_sqft[3] + 1.5)*303464.4480000001*0.2 + 1500000) - ((-0.05*price_per_sqft[3] + 1.5)*180000*price_per_sqft[3] - (303464.4480000001 + (-0.05*price_per_sqft[3] + 1.5)*303464.4480000001*0.2 + 1500000))*0.34 + (-0.05*price_per_sqft[4] + 1.5)*180000*price_per_sqft[4] - (339880.1817600001 + (-0.05*price_per_sqft[4] + 1.5)*339880.1817600001*0.2 + 1500000) - ((-0.05*price_per_sqft[4] + 1.5)*180000*price_per_sqft[4] - (339880.1817600001 + (-0.05*price_per_sqft[4] + 1.5)*339880.1817600001*0.2 + 1500000))*0.34\n",
            "\n",
            "3 Declarations: price_per_sqft_index price_per_sqft office_earnings\n"
          ]
        }
      ]
    },
    {
      "cell_type": "code",
      "source": [
        "#solve model & print relevant values\n",
        "opt = SolverFactory('ipopt', executable='/content/ipopt')\n",
        "\n",
        "results = opt.solve(model4, tee = False) #setting tee = False hides the diagnostic outputs"
      ],
      "metadata": {
        "id": "R3lKvLtbmyLT"
      },
      "execution_count": 28,
      "outputs": []
    },
    {
      "cell_type": "code",
      "source": [
        "for i in range(num_years):\n",
        "  print(f\"optimal price per square foot in Y{i+1} = {model4.price_per_sqft[i]()}\")\n",
        "print(f\"optimal total earnings after tax is {model4.office_earnings}\")"
      ],
      "metadata": {
        "colab": {
          "base_uri": "https://localhost:8080/"
        },
        "id": "nP6f_B2Fm6AD",
        "outputId": "8bbbb368-0688-4821-c0cf-0c17a70814b6"
      },
      "execution_count": 29,
      "outputs": [
        {
          "output_type": "stream",
          "name": "stdout",
          "text": [
            "optimal price per square foot in Y1 = 15.120000000000013\n",
            "optimal price per square foot in Y2 = 15.13440000000001\n",
            "optimal price per square foot in Y3 = 15.150528000000012\n",
            "optimal price per square foot in Y4 = 15.168591360000015\n",
            "optimal price per square foot in Y5 = 15.188822323200014\n",
            "optimal total earnings after tax is office_earnings\n"
          ]
        }
      ]
    },
    {
      "cell_type": "markdown",
      "source": [
        "#Your Turn C: Small Stigler\n",
        "Solve the small version of the Stigler problem shown below using lists, ConstraintLists, and for loops as shown above. (Even though there are only 3 DVs and 2 constraints, this is good practice to prepare yourself for bigger problems). Print out the optimal x's and the total optimal cost.\n",
        "\n",
        "Minimize cost = $.36*x_{wheat} + .141*x_{mac} + .242*x_{cereal}$\n",
        "\n",
        "s.t.\n",
        "\n",
        " $16.1*x_{wheat} + 1.6*x_{mac} + 2.9*x_{cereal} >= 3$ (Calories Daily Min Constraint)\n",
        "\n",
        " $507.9*x_{wheat} + 58.9*x_{mac} + 91.2*x_{cereal} >= 1.8$ (Protein Daily Min Constraint)\n",
        "\n",
        "$x_{wheat}, x_{mac}, x_{cereal} >= 0$"
      ],
      "metadata": {
        "id": "yP5jgxO8C2ba"
      }
    },
    {
      "cell_type": "code",
      "source": [
        "!apt-get install -y -qq glpk-utils\n",
        "#I've started the code for you here...\n",
        "num_commodities = 3\n",
        "num_nutrients = 2\n",
        "cost_coef = [0.36, 0.141, 0.242]\n",
        "constraint_coef = [[16.1, 1.6, 2.9], [507.9, 58.9, 91.2]]\n",
        "daily_mins = [3, 1.8]"
      ],
      "metadata": {
        "id": "ZWcNsQc9GI9g"
      },
      "execution_count": 34,
      "outputs": []
    },
    {
      "cell_type": "code",
      "source": [
        "model3 = ConcreteModel()\n",
        "\n",
        "#dvs\n",
        "model3.x = Var(range(num_commodities), domain = NonNegativeReals)\n",
        "\n",
        "#objective\n",
        "model3.cost = Objective(expr = sum(cost_coef[i]*model3.x[i] for i in range(num_commodities)), sense = minimize)\n",
        "\n",
        "#constraints\n",
        "model3.Constraints = ConstraintList()\n",
        "for j in range(num_nutrients):\n",
        "  model3.Constraints.add(expr = sum(constraint_coef[j][i]*model3.x[i] for i in range(num_commodities)) >= daily_mins[j])\n",
        "\n",
        "model3.pprint()"
      ],
      "metadata": {
        "id": "NXjPXNEiEnhL",
        "colab": {
          "base_uri": "https://localhost:8080/"
        },
        "outputId": "4eb08f1e-a5cb-432a-973a-ebdd6f386be1"
      },
      "execution_count": 37,
      "outputs": [
        {
          "output_type": "stream",
          "name": "stdout",
          "text": [
            "2 Set Declarations\n",
            "    Constraints_index : Size=1, Index=None, Ordered=Insertion\n",
            "        Key  : Dimen : Domain : Size : Members\n",
            "        None :     1 :    Any :    2 : {1, 2}\n",
            "    x_index : Size=1, Index=None, Ordered=Insertion\n",
            "        Key  : Dimen : Domain : Size : Members\n",
            "        None :     1 :    Any :    3 : {0, 1, 2}\n",
            "\n",
            "1 Var Declarations\n",
            "    x : Size=3, Index=x_index\n",
            "        Key : Lower : Value : Upper : Fixed : Stale : Domain\n",
            "          0 :     0 :  None :  None : False :  True : NonNegativeReals\n",
            "          1 :     0 :  None :  None : False :  True : NonNegativeReals\n",
            "          2 :     0 :  None :  None : False :  True : NonNegativeReals\n",
            "\n",
            "1 Objective Declarations\n",
            "    cost : Size=1, Index=None, Active=True\n",
            "        Key  : Active : Sense    : Expression\n",
            "        None :   True : minimize : 0.36*x[0] + 0.141*x[1] + 0.242*x[2]\n",
            "\n",
            "1 Constraint Declarations\n",
            "    Constraints : Size=2, Index=Constraints_index, Active=True\n",
            "        Key : Lower : Body                               : Upper : Active\n",
            "          1 :   3.0 :    16.1*x[0] + 1.6*x[1] + 2.9*x[2] :  +Inf :   True\n",
            "          2 :   1.8 : 507.9*x[0] + 58.9*x[1] + 91.2*x[2] :  +Inf :   True\n",
            "\n",
            "5 Declarations: x_index x cost Constraints_index Constraints\n"
          ]
        }
      ]
    },
    {
      "cell_type": "code",
      "source": [
        "#solve model\n",
        "opt = SolverFactory('glpk', executable='/usr/bin/glpsol')\n",
        "\n",
        "results = opt.solve(model3, tee = False) "
      ],
      "metadata": {
        "id": "xTgeZMmAMfaA"
      },
      "execution_count": 46,
      "outputs": []
    },
    {
      "cell_type": "code",
      "source": [
        "#print relevant values\n",
        "name_commodities = ['wheat', 'mac', 'cereal']\n",
        "for i in range(num_commodities):\n",
        "  print(f'The optimal amount of {name_commodities[i]} is {model3.x[i]()}')\n",
        "print(f'The optimal amount of cost is {model3.cost()}')"
      ],
      "metadata": {
        "id": "ydaFvndWMoJ6",
        "colab": {
          "base_uri": "https://localhost:8080/"
        },
        "outputId": "15bba0f3-d9d1-4208-9601-dd62da2830c2"
      },
      "execution_count": 48,
      "outputs": [
        {
          "output_type": "stream",
          "name": "stdout",
          "text": [
            "The optimal amount of wheat is 0.186335403726708\n",
            "The optimal amount of mac is 0.0\n",
            "The optimal amount of cereal is 0.0\n",
            "The optimal amount of cost is 0.06708074534161489\n"
          ]
        }
      ]
    }
  ]
}