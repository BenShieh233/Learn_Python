{
  "cells": [
    {
      "cell_type": "markdown",
      "metadata": {
        "id": "view-in-github",
        "colab_type": "text"
      },
      "source": [
        "<a href=\"https://colab.research.google.com/github/BenShieh233/Learn_Python/blob/main/CapBudget.ipynb\" target=\"_parent\"><img src=\"https://colab.research.google.com/assets/colab-badge.svg\" alt=\"Open In Colab\"/></a>"
      ]
    },
    {
      "cell_type": "markdown",
      "source": [
        "#Set-Up"
      ],
      "metadata": {
        "id": "hL77L3Uei59o"
      }
    },
    {
      "cell_type": "code",
      "source": [
        "#Copy-and-paste the code below to use as \"set-up\" when your optimization model uses Pyomo. \n",
        "#Uncomment the appropriate solver that you need.\n",
        "#for reference, see https://colab.research.google.com/drive/1yGk8RB5NXrcx9f1Tb-oCiWzbxh61hZLI?usp=sharing\n",
        "\n",
        "#installing and importing pyomo\n",
        "!pip install -q pyomo\n",
        "from pyomo.environ import *\n",
        "\n",
        "###installing and importing specific solvers (uncomment the one(s) you need)\n",
        "###glpk\n",
        "!apt-get install -y -qq glpk-utils\n",
        "###cbc\n",
        "#!apt-get install -y -qq coinor-cbc\n",
        "###ipopt\n",
        "#!wget -N -q \"https://ampl.com/dl/open/ipopt/ipopt-linux64.zip\"\n",
        "#!unzip -o -q ipopt-linux64\n",
        "###bonmin\n",
        "#!wget -N -q \"https://ampl.com/dl/open/bonmin/bonmin-linux64.zip\"\n",
        "#!unzip -o -q bonmin-linux64\n",
        "###couenne\n",
        "#!wget -N -q \"https://ampl.com/dl/open/couenne/couenne-linux64.zip\"\n",
        "#!unzip -o -q couenne-linux64\n",
        "###geocode\n",
        "#!wget -N -q \"https://ampl.com/dl/open/gecode/gecode-linux64.zip\"\n",
        "#!unzip -o -q gecode-linux64\n",
        "\n",
        "#Using the solvers:\n",
        "#SolverFactory('glpk', executable='/usr/bin/glpsol')\n",
        "#SolverFactory('cbc', executable='/usr/bin/cbc')\n",
        "#SolverFactory('ipopt', executable='/content/ipopt')\n",
        "#SolverFactory('bonmin', executable='/content/bonmin')\n",
        "#SolverFactory('couenne', executable='/content/couenne')\n",
        "#SolverFactory('gecode', executable='/content/gecode')"
      ],
      "metadata": {
        "id": "T3OEUrcJgiSR",
        "colab": {
          "base_uri": "https://localhost:8080/"
        },
        "outputId": "b8e242e4-c54c-4dd0-98f8-9274f14444b1"
      },
      "execution_count": 1,
      "outputs": [
        {
          "output_type": "stream",
          "name": "stdout",
          "text": [
            "\u001b[K     |████████████████████████████████| 9.7 MB 5.6 MB/s \n",
            "\u001b[K     |████████████████████████████████| 49 kB 5.4 MB/s \n",
            "\u001b[?25hSelecting previously unselected package libsuitesparseconfig5:amd64.\n",
            "(Reading database ... 123991 files and directories currently installed.)\n",
            "Preparing to unpack .../libsuitesparseconfig5_1%3a5.1.2-2_amd64.deb ...\n",
            "Unpacking libsuitesparseconfig5:amd64 (1:5.1.2-2) ...\n",
            "Selecting previously unselected package libamd2:amd64.\n",
            "Preparing to unpack .../libamd2_1%3a5.1.2-2_amd64.deb ...\n",
            "Unpacking libamd2:amd64 (1:5.1.2-2) ...\n",
            "Selecting previously unselected package libcolamd2:amd64.\n",
            "Preparing to unpack .../libcolamd2_1%3a5.1.2-2_amd64.deb ...\n",
            "Unpacking libcolamd2:amd64 (1:5.1.2-2) ...\n",
            "Selecting previously unselected package libglpk40:amd64.\n",
            "Preparing to unpack .../libglpk40_4.65-1_amd64.deb ...\n",
            "Unpacking libglpk40:amd64 (4.65-1) ...\n",
            "Selecting previously unselected package glpk-utils.\n",
            "Preparing to unpack .../glpk-utils_4.65-1_amd64.deb ...\n",
            "Unpacking glpk-utils (4.65-1) ...\n",
            "Setting up libsuitesparseconfig5:amd64 (1:5.1.2-2) ...\n",
            "Setting up libcolamd2:amd64 (1:5.1.2-2) ...\n",
            "Setting up libamd2:amd64 (1:5.1.2-2) ...\n",
            "Setting up libglpk40:amd64 (4.65-1) ...\n",
            "Setting up glpk-utils (4.65-1) ...\n",
            "Processing triggers for libc-bin (2.27-3ubuntu1.6) ...\n",
            "Processing triggers for man-db (2.8.3-2ubuntu0.1) ...\n"
          ]
        }
      ]
    },
    {
      "cell_type": "markdown",
      "source": [
        "#Capital Budgeting Problem (Base)"
      ],
      "metadata": {
        "id": "TH2KJ7OKJg33"
      }
    },
    {
      "cell_type": "code",
      "execution_count": 2,
      "metadata": {
        "id": "nftn6AAjJQoH"
      },
      "outputs": [],
      "source": [
        "#Capital Budgeting Base Problem Data\n",
        "cost = [5.0,2.4,3.5,5.9,6.9,4.5,3.0]\n",
        "npv = [5.6,2.7,3.9,6.8,7.7,5.1,3.3]\n",
        "budget = 15\n",
        "n = len(cost)\n",
        "\n",
        "#define the concrete model\n",
        "model = ConcreteModel()\n",
        "\n",
        "#DVs\n",
        "model.x = Var(range(n), domain = Binary) #NOTE: This is where we restrict the decision variables to be binary (could also put things like NonNegativeIntegers)\n",
        "\n",
        "#budget constraint\n",
        "model.BudgetConstraint = Constraint(expr = sum(model.x[i]*cost[i] for i in range(n)) <= budget)\n",
        "\n",
        "#objective\n",
        "model.Objective = Objective(expr = sum(model.x[i]*npv[i] for i in range(n)), sense = maximize)"
      ]
    },
    {
      "cell_type": "code",
      "source": [
        "#solve the model\n",
        "opt = SolverFactory('glpk')\n",
        "opt.options['tmlim'] = 5 #specifies the time limit (in seconds)\n",
        "opt.options['mipgap'] = .01 #specifies the optimality gap tolerance (.01 means alg can stop if guarenteed within <1% of optimal obj)\n",
        "results = opt.solve(model, tee=True)"
      ],
      "metadata": {
        "id": "1nlGi77PJmxP",
        "outputId": "3eeadd71-7216-4f8d-ddb6-7712deb92ba7",
        "colab": {
          "base_uri": "https://localhost:8080/"
        }
      },
      "execution_count": 3,
      "outputs": [
        {
          "output_type": "stream",
          "name": "stdout",
          "text": [
            "GLPSOL: GLPK LP/MIP Solver, v4.65\n",
            "Parameter(s) specified in the command line:\n",
            " --tmlim 5 --mipgap 0.01 --write /tmp/tmpq1dqqd61.glpk.raw --wglp /tmp/tmpnadk6gk1.glpk.glp\n",
            " --cpxlp /tmp/tmp00p86md_.pyomo.lp\n",
            "Reading problem data from '/tmp/tmp00p86md_.pyomo.lp'...\n",
            "/tmp/tmp00p86md_.pyomo.lp:37: warning: lower bound of variable 'x1' redefined\n",
            "/tmp/tmp00p86md_.pyomo.lp:37: warning: upper bound of variable 'x1' redefined\n",
            "2 rows, 8 columns, 8 non-zeros\n",
            "7 integer variables, all of which are binary\n",
            "44 lines were read\n",
            "Writing problem data to '/tmp/tmpnadk6gk1.glpk.glp'...\n",
            "31 lines were written\n",
            "GLPK Integer Optimizer, v4.65\n",
            "2 rows, 8 columns, 8 non-zeros\n",
            "7 integer variables, all of which are binary\n",
            "Preprocessing...\n",
            "1 row, 7 columns, 7 non-zeros\n",
            "7 integer variables, all of which are binary\n",
            "Scaling...\n",
            " A: min|aij| =  2.400e+00  max|aij| =  6.900e+00  ratio =  2.875e+00\n",
            "Problem data seem to be well scaled\n",
            "Constructing initial basis...\n",
            "Size of triangular part is 1\n",
            "Solving LP relaxation...\n",
            "GLPK Simplex Optimizer, v4.65\n",
            "1 row, 7 columns, 7 non-zeros\n",
            "*     0: obj =  -0.000000000e+00 inf =   0.000e+00 (7)\n",
            "*     7: obj =   1.706400000e+01 inf =   0.000e+00 (0)\n",
            "OPTIMAL LP SOLUTION FOUND\n",
            "Integer optimization begins...\n",
            "Long-step dual simplex will be used\n",
            "+     7: mip =     not found yet <=              +inf        (1; 0)\n",
            "Solution found by heuristic: 14.6\n",
            "Solution found by heuristic: 15.1\n",
            "Solution found by heuristic: 16.3\n",
            "+    16: >>>>>   1.670000000e+01 <=   1.703898305e+01   2.0% (8; 1)\n",
            "+    22: mip =   1.670000000e+01 <=   1.682000000e+01   0.7% (2; 17)\n",
            "RELATIVE MIP GAP TOLERANCE REACHED; SEARCH TERMINATED\n",
            "Time used:   0.0 secs\n",
            "Memory used: 0.1 Mb (62981 bytes)\n",
            "Writing MIP solution to '/tmp/tmpq1dqqd61.glpk.raw'...\n",
            "19 lines were written\n"
          ]
        }
      ]
    },
    {
      "cell_type": "code",
      "source": [
        "#print out solution\n",
        "print(\"invest in options: \")\n",
        "for i in range(n):\n",
        "    if model.x[i]() == 1:\n",
        "        print(i)\n",
        "\n",
        "print(\"Total NPV:\", model.Objective())\n",
        "print(\"Total Cost:\", model.BudgetConstraint())"
      ],
      "metadata": {
        "colab": {
          "base_uri": "https://localhost:8080/"
        },
        "id": "nbpDXvfjJnlf",
        "outputId": "1d82a165-2d94-4854-85dc-6d5d792e0445"
      },
      "execution_count": 4,
      "outputs": [
        {
          "output_type": "stream",
          "name": "stdout",
          "text": [
            "invest in options: \n",
            "1\n",
            "2\n",
            "3\n",
            "6\n",
            "Total NPV: 16.7\n",
            "Total Cost: 14.8\n"
          ]
        }
      ]
    },
    {
      "cell_type": "markdown",
      "source": [
        "# Variation A"
      ],
      "metadata": {
        "id": "oOC6un4viZIZ"
      }
    },
    {
      "cell_type": "code",
      "source": [
        "#Capital Budgeting Base Problem Data\n",
        "cost = [5.0,2.4,3.5,5.9,6.9,4.5,3.0]\n",
        "npv = [5.6,2.7,3.9,6.8,7.7,5.1,3.3]\n",
        "budget = 15\n",
        "n = len(cost)\n",
        "\n",
        "#define the concrete model\n",
        "model = ConcreteModel()\n",
        "\n",
        "#DVs\n",
        "model.x = Var(range(n), domain = Binary) #NOTE: This is where we restrict the decision variables to be binary (could also put things like NonNegativeIntegers)\n",
        "\n",
        "#budget constraint\n",
        "model.BudgetConstraint = Constraint(expr = sum(model.x[i]*cost[i] for i in range(n)) <= budget)\n",
        "model.ConstraintA = Constraint(expr = (model.x[0] + model.x[4]) >= 1)\n",
        "\n",
        "#objective\n",
        "model.Objective = Objective(expr = sum(model.x[i]*npv[i] for i in range(n)), sense = maximize)"
      ],
      "metadata": {
        "id": "C5Fu_XibiUUN"
      },
      "execution_count": 21,
      "outputs": []
    },
    {
      "cell_type": "code",
      "source": [
        "#solve the model\n",
        "opt = SolverFactory('glpk')\n",
        "opt.options['tmlim'] = 5 #specifies the time limit (in seconds)\n",
        "opt.options['mipgap'] = .01 #specifies the optimality gap tolerance (.01 means alg can stop if guarenteed within <1% of optimal obj)\n",
        "results = opt.solve(model, tee=True)"
      ],
      "metadata": {
        "id": "4yoAj5Rji62v",
        "outputId": "069e287b-d1c9-47a7-988c-fd14307270a5",
        "colab": {
          "base_uri": "https://localhost:8080/"
        }
      },
      "execution_count": 22,
      "outputs": [
        {
          "output_type": "stream",
          "name": "stdout",
          "text": [
            "GLPSOL: GLPK LP/MIP Solver, v4.65\n",
            "Parameter(s) specified in the command line:\n",
            " --tmlim 5 --mipgap 0.01 --write /tmp/tmpk2eo4nfg.glpk.raw --wglp /tmp/tmpe4p1dmjc.glpk.glp\n",
            " --cpxlp /tmp/tmp8ufjc6ys.pyomo.lp\n",
            "Reading problem data from '/tmp/tmp8ufjc6ys.pyomo.lp'...\n",
            "/tmp/tmp8ufjc6ys.pyomo.lp:42: warning: lower bound of variable 'x1' redefined\n",
            "/tmp/tmp8ufjc6ys.pyomo.lp:42: warning: upper bound of variable 'x1' redefined\n",
            "3 rows, 8 columns, 10 non-zeros\n",
            "7 integer variables, all of which are binary\n",
            "49 lines were read\n",
            "Writing problem data to '/tmp/tmpe4p1dmjc.glpk.glp'...\n",
            "35 lines were written\n",
            "GLPK Integer Optimizer, v4.65\n",
            "3 rows, 8 columns, 10 non-zeros\n",
            "7 integer variables, all of which are binary\n",
            "Preprocessing...\n",
            "1 hidden packing inequaliti(es) were detected\n",
            "2 rows, 7 columns, 9 non-zeros\n",
            "7 integer variables, all of which are binary\n",
            "Scaling...\n",
            " A: min|aij| =  1.000e+00  max|aij| =  6.900e+00  ratio =  6.900e+00\n",
            "Problem data seem to be well scaled\n",
            "Constructing initial basis...\n",
            "Size of triangular part is 2\n",
            "Solving LP relaxation...\n",
            "GLPK Simplex Optimizer, v4.65\n",
            "2 rows, 7 columns, 9 non-zeros\n",
            "      0: obj =  -0.000000000e+00 inf =   1.000e+00 (1)\n",
            "      1: obj =   5.600000000e+00 inf =   0.000e+00 (0)\n",
            "*     6: obj =   1.704666667e+01 inf =   0.000e+00 (0)\n",
            "OPTIMAL LP SOLUTION FOUND\n",
            "Integer optimization begins...\n",
            "Long-step dual simplex will be used\n",
            "+     6: mip =     not found yet <=              +inf        (1; 0)\n",
            "Solution found by heuristic: 15.1\n",
            "Solution found by heuristic: 16.3\n",
            "+    20: >>>>>   1.660000000e+01 <=   1.684400000e+01   1.5% (4; 8)\n",
            "+    22: >>>>>   1.670000000e+01 <=   1.682000000e+01   0.7% (4; 10)\n",
            "+    22: mip =   1.670000000e+01 <=   1.682000000e+01   0.7% (3; 11)\n",
            "RELATIVE MIP GAP TOLERANCE REACHED; SEARCH TERMINATED\n",
            "Time used:   0.0 secs\n",
            "Memory used: 0.1 Mb (63557 bytes)\n",
            "Writing MIP solution to '/tmp/tmpk2eo4nfg.glpk.raw'...\n",
            "20 lines were written\n"
          ]
        }
      ]
    },
    {
      "cell_type": "code",
      "source": [
        "#print out solution\n",
        "print(\"invest in options: \")\n",
        "for i in range(n):\n",
        "    if model.x[i]() == 1:\n",
        "        print(i)\n",
        "\n",
        "print(\"Total NPV:\", model.Objective())\n",
        "print(\"Total Cost:\", model.BudgetConstraint())"
      ],
      "metadata": {
        "id": "k4nxYXCZkPGg",
        "outputId": "10185f9e-a6be-4851-e38a-c289d9439453",
        "colab": {
          "base_uri": "https://localhost:8080/"
        }
      },
      "execution_count": 23,
      "outputs": [
        {
          "output_type": "stream",
          "name": "stdout",
          "text": [
            "invest in options: \n",
            "2\n",
            "4\n",
            "5\n",
            "Total NPV: 16.7\n",
            "Total Cost: 14.9\n"
          ]
        }
      ]
    },
    {
      "cell_type": "markdown",
      "source": [
        "# Variation B"
      ],
      "metadata": {
        "id": "W5u7rD9jln34"
      }
    },
    {
      "cell_type": "code",
      "source": [],
      "metadata": {
        "id": "XBzLUqgEmq3W"
      },
      "execution_count": null,
      "outputs": []
    },
    {
      "cell_type": "code",
      "source": [
        "#Capital Budgeting Base Problem Data\n",
        "cost = [5.0,2.4,3.5,5.9,6.9,4.5,3.0]\n",
        "npv = [5.6,2.7,3.9,6.8,7.7,5.1,3.3]\n",
        "budget = 15\n",
        "n = len(cost)\n",
        "\n",
        "#define the concrete model\n",
        "model = ConcreteModel()\n",
        "#DVs\n",
        "model.x = Var(range(n), domain = Binary) #NOTE: This is where we restrict the decision variables to be binary (could also put things like NonNegativeIntegers)\n",
        "#budget constraint\n",
        "model.BudgetConstraint = Constraint(expr = sum(model.x[i]*cost[i] for i in range(n)) <= budget)\n",
        "\n",
        "model.ConstraintB = Constraint(expr = (model.x[0]<=model.x[5]))\n",
        "#objective\n",
        "model.Objective = Objective(expr = sum(model.x[i]*npv[i] for i in range(n)), sense = maximize)"
      ],
      "metadata": {
        "id": "3ox3gJfPlnZE"
      },
      "execution_count": 32,
      "outputs": []
    },
    {
      "cell_type": "code",
      "source": [
        "#solve the model\n",
        "opt = SolverFactory('glpk')\n",
        "opt.options['tmlim'] = 5 #specifies the time limit (in seconds)\n",
        "opt.options['mipgap'] = .01 #specifies the optimality gap tolerance (.01 means alg can stop if guarenteed within <1% of optimal obj)\n",
        "results = opt.solve(model, tee=True)"
      ],
      "metadata": {
        "id": "BXiQM5FCpOTc",
        "outputId": "95ef2018-b082-4a5d-f2c4-7e3a5469e548",
        "colab": {
          "base_uri": "https://localhost:8080/"
        }
      },
      "execution_count": 33,
      "outputs": [
        {
          "output_type": "stream",
          "name": "stdout",
          "text": [
            "GLPSOL: GLPK LP/MIP Solver, v4.65\n",
            "Parameter(s) specified in the command line:\n",
            " --tmlim 5 --mipgap 0.01 --write /tmp/tmpc2ka44ie.glpk.raw --wglp /tmp/tmp2sqdays6.glpk.glp\n",
            " --cpxlp /tmp/tmpik7uppto.pyomo.lp\n",
            "Reading problem data from '/tmp/tmpik7uppto.pyomo.lp'...\n",
            "/tmp/tmpik7uppto.pyomo.lp:42: warning: lower bound of variable 'x1' redefined\n",
            "/tmp/tmpik7uppto.pyomo.lp:42: warning: upper bound of variable 'x1' redefined\n",
            "3 rows, 8 columns, 10 non-zeros\n",
            "7 integer variables, all of which are binary\n",
            "49 lines were read\n",
            "Writing problem data to '/tmp/tmp2sqdays6.glpk.glp'...\n",
            "35 lines were written\n",
            "GLPK Integer Optimizer, v4.65\n",
            "3 rows, 8 columns, 10 non-zeros\n",
            "7 integer variables, all of which are binary\n",
            "Preprocessing...\n",
            "2 rows, 7 columns, 9 non-zeros\n",
            "7 integer variables, all of which are binary\n",
            "Scaling...\n",
            " A: min|aij| =  1.000e+00  max|aij| =  6.900e+00  ratio =  6.900e+00\n",
            "Problem data seem to be well scaled\n",
            "Constructing initial basis...\n",
            "Size of triangular part is 2\n",
            "Solving LP relaxation...\n",
            "GLPK Simplex Optimizer, v4.65\n",
            "2 rows, 7 columns, 9 non-zeros\n",
            "*     0: obj =  -0.000000000e+00 inf =   0.000e+00 (7)\n",
            "*     7: obj =   1.706400000e+01 inf =   0.000e+00 (0)\n",
            "OPTIMAL LP SOLUTION FOUND\n",
            "Integer optimization begins...\n",
            "Long-step dual simplex will be used\n",
            "+     7: mip =     not found yet <=              +inf        (1; 0)\n",
            "Solution found by heuristic: 14.6\n",
            "Solution found by heuristic: 15.8\n",
            "+    13: >>>>>   1.670000000e+01 <=   1.702000000e+01   1.9% (5; 1)\n",
            "+    17: mip =   1.670000000e+01 <=   1.682000000e+01   0.7% (3; 9)\n",
            "RELATIVE MIP GAP TOLERANCE REACHED; SEARCH TERMINATED\n",
            "Time used:   0.0 secs\n",
            "Memory used: 0.1 Mb (63557 bytes)\n",
            "Writing MIP solution to '/tmp/tmpc2ka44ie.glpk.raw'...\n",
            "20 lines were written\n"
          ]
        }
      ]
    },
    {
      "cell_type": "code",
      "source": [
        "#print out solution\n",
        "print(\"invest in options: \")\n",
        "for i in range(n):\n",
        "    if model.x[i]() == 1:\n",
        "        print(i)\n",
        "\n",
        "print(\"Total NPV:\", model.Objective())\n",
        "print(\"Total Cost:\", model.BudgetConstraint())"
      ],
      "metadata": {
        "id": "ZnWS0xwWpQTi",
        "outputId": "974b7399-67c7-4c54-a4bb-ea16fcda9432",
        "colab": {
          "base_uri": "https://localhost:8080/"
        }
      },
      "execution_count": 34,
      "outputs": [
        {
          "output_type": "stream",
          "name": "stdout",
          "text": [
            "invest in options: \n",
            "1\n",
            "2\n",
            "3\n",
            "6\n",
            "Total NPV: 16.7\n",
            "Total Cost: 14.8\n"
          ]
        }
      ]
    },
    {
      "cell_type": "markdown",
      "source": [
        "# Variation C"
      ],
      "metadata": {
        "id": "KFLB0WTBprmx"
      }
    },
    {
      "cell_type": "code",
      "source": [
        "#Capital Budgeting Base Problem Data\n",
        "cost = [5.0,2.4,3.5,5.9,6.9,4.5,3.0]\n",
        "npv = [5.6,2.7,3.9,6.8,7.7,5.1,3.3]\n",
        "budget = 15\n",
        "n = len(cost)\n",
        "\n",
        "#define the concrete model\n",
        "model = ConcreteModel()\n",
        "#DVs\n",
        "model.x = Var(range(n), domain = Binary) #NOTE: This is where we restrict the decision variables to be binary (could also put things like NonNegativeIntegers)\n",
        "#budget constraint\n",
        "model.BudgetConstraint = Constraint(expr = sum(model.x[i]*cost[i] for i in range(n)) <= budget)\n",
        "\n",
        "model.ConstraintB = Constraint(expr = (model.x[0]<=model.x[5]))\n",
        "#objective\n",
        "model.Objective = Objective(expr = sum(model.x[i]*npv[i] for i in range(n)), sense = maximize)"
      ],
      "metadata": {
        "id": "xsdVIApVptNX"
      },
      "execution_count": 35,
      "outputs": []
    },
    {
      "cell_type": "code",
      "source": [
        "#solve the model\n",
        "opt = SolverFactory('glpk')\n",
        "opt.options['tmlim'] = 5 #specifies the time limit (in seconds)\n",
        "opt.options['mipgap'] = 0 #specifies the optimality gap tolerance (.01 means alg can stop if guarenteed within <1% of optimal obj)\n",
        "results = opt.solve(model, tee=True)"
      ],
      "metadata": {
        "id": "lMzJq8CSpx3F",
        "outputId": "2e0c8459-eb85-4a3a-9517-402398fdfada",
        "colab": {
          "base_uri": "https://localhost:8080/"
        }
      },
      "execution_count": 36,
      "outputs": [
        {
          "output_type": "stream",
          "name": "stdout",
          "text": [
            "GLPSOL: GLPK LP/MIP Solver, v4.65\n",
            "Parameter(s) specified in the command line:\n",
            " --tmlim 5 --mipgap 0 --write /tmp/tmpeb_e0h5b.glpk.raw --wglp /tmp/tmpvc8593wz.glpk.glp\n",
            " --cpxlp /tmp/tmpk8ucw2a2.pyomo.lp\n",
            "Reading problem data from '/tmp/tmpk8ucw2a2.pyomo.lp'...\n",
            "/tmp/tmpk8ucw2a2.pyomo.lp:42: warning: lower bound of variable 'x1' redefined\n",
            "/tmp/tmpk8ucw2a2.pyomo.lp:42: warning: upper bound of variable 'x1' redefined\n",
            "3 rows, 8 columns, 10 non-zeros\n",
            "7 integer variables, all of which are binary\n",
            "49 lines were read\n",
            "Writing problem data to '/tmp/tmpvc8593wz.glpk.glp'...\n",
            "35 lines were written\n",
            "GLPK Integer Optimizer, v4.65\n",
            "3 rows, 8 columns, 10 non-zeros\n",
            "7 integer variables, all of which are binary\n",
            "Preprocessing...\n",
            "2 rows, 7 columns, 9 non-zeros\n",
            "7 integer variables, all of which are binary\n",
            "Scaling...\n",
            " A: min|aij| =  1.000e+00  max|aij| =  6.900e+00  ratio =  6.900e+00\n",
            "Problem data seem to be well scaled\n",
            "Constructing initial basis...\n",
            "Size of triangular part is 2\n",
            "Solving LP relaxation...\n",
            "GLPK Simplex Optimizer, v4.65\n",
            "2 rows, 7 columns, 9 non-zeros\n",
            "*     0: obj =  -0.000000000e+00 inf =   0.000e+00 (7)\n",
            "*     7: obj =   1.706400000e+01 inf =   0.000e+00 (0)\n",
            "OPTIMAL LP SOLUTION FOUND\n",
            "Integer optimization begins...\n",
            "Long-step dual simplex will be used\n",
            "+     7: mip =     not found yet <=              +inf        (1; 0)\n",
            "Solution found by heuristic: 14.6\n",
            "Solution found by heuristic: 15.8\n",
            "+    13: >>>>>   1.670000000e+01 <=   1.702000000e+01   1.9% (5; 1)\n",
            "+    19: mip =   1.670000000e+01 <=     tree is empty   0.0% (0; 17)\n",
            "INTEGER OPTIMAL SOLUTION FOUND\n",
            "Time used:   0.0 secs\n",
            "Memory used: 0.1 Mb (63557 bytes)\n",
            "Writing MIP solution to '/tmp/tmpeb_e0h5b.glpk.raw'...\n",
            "20 lines were written\n"
          ]
        }
      ]
    },
    {
      "cell_type": "code",
      "source": [
        "#print out solution\n",
        "print(\"invest in options: \")\n",
        "for i in range(n):\n",
        "    if model.x[i]() == 1:\n",
        "        print(i)\n",
        "\n",
        "print(\"Total NPV:\", model.Objective())\n",
        "print(\"Total Cost:\", model.BudgetConstraint())"
      ],
      "metadata": {
        "id": "4LL2vyf_p0MF",
        "outputId": "6addbd04-2d73-472e-f9e5-404dac004b13",
        "colab": {
          "base_uri": "https://localhost:8080/"
        }
      },
      "execution_count": 37,
      "outputs": [
        {
          "output_type": "stream",
          "name": "stdout",
          "text": [
            "invest in options: \n",
            "1\n",
            "2\n",
            "3\n",
            "6\n",
            "Total NPV: 16.7\n",
            "Total Cost: 14.8\n"
          ]
        }
      ]
    }
  ],
  "metadata": {
    "@webio": {
      "lastCommId": null,
      "lastKernelId": null
    },
    "kernelspec": {
      "display_name": "Python 3",
      "language": "python",
      "name": "python3"
    },
    "language_info": {
      "codemirror_mode": {
        "name": "ipython",
        "version": 3
      },
      "file_extension": ".py",
      "mimetype": "text/x-python",
      "name": "python",
      "nbconvert_exporter": "python",
      "pygments_lexer": "ipython3",
      "version": "3.8.8"
    },
    "colab": {
      "provenance": [],
      "include_colab_link": true
    }
  },
  "nbformat": 4,
  "nbformat_minor": 0
}